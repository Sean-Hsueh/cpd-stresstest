{
 "cells": [
  {
   "cell_type": "code",
   "execution_count": 1,
   "metadata": {},
   "outputs": [],
   "source": [
    "!pip3 install selenium"
   ]
  },
  {
   "cell_type": "code",
   "execution_count": null,
   "metadata": {
    "pycharm": {
     "name": "#%%\n"
    }
   },
   "outputs": [],
   "source": [
    "from DasUITesting import instance, util\n",
    "from selenium.common.exceptions import TimeoutException\n",
    "from selenium.common.exceptions import StaleElementReferenceException\n",
    "import time\n",
    "import os\n",
    "import logging\n",
    "import random\n",
    "import datetime\n",
    "\n",
    "\n",
    "FORMAT = '%(asctime)s %(levelname)s: %(message)s'\n",
    "#logging.basicConfig(level=logging.WARN, format=FORMAT)\n",
    "logging.basicConfig(level=logging.INFO, format=FORMAT)"
   ]
  },
  {
   "cell_type": "code",
   "execution_count": null,
   "metadata": {
    "pycharm": {
     "name": "#%%\n"
    }
   },
   "outputs": [],
   "source": [
    "# get env var\n",
    "BASE_URL   = os.environ.get('DAS_INSTANCE')    if os.environ.get('DAS_INSTANCE')    is not None else \"https://cpd-cpd-instance.apps.cp4d2.hosp.ncku.edu.tw/\"\n",
    "USER       = os.environ.get('DAS_USER')        if os.environ.get('DAS_USER')        is not None else \"STI9003\"\n",
    "PASSWORD   = os.environ.get('DAS_PASSWORD')    if os.environ.get('DAS_PASSWORD')    is not None else \"N123qweasdzxc\"\n",
    "#EXECUTOR   = os.environ.get('REMOTE_EXECUTOR') if os.environ.get('REMOTE_EXECUTOR') is not None else \"http://140.110.136.74:30052/wd/hub\"\n",
    "EXECUTOR   = os.environ.get('REMOTE_EXECUTOR') if os.environ.get('REMOTE_EXECUTOR') is not None else \"http://127.0.0.1:4444/wd/hub\"\n",
    "MEAN_THINK = os.environ.get('MEAN_THINK')      if os.environ.get('MEAN_THINK')      is not None else \"10\"\n",
    "DURATION   = os.environ.get('DURATION')        if os.environ.get('DURATION')        is not None else \"6\""
   ]
  },
  {
   "cell_type": "code",
   "execution_count": null,
   "metadata": {
    "pycharm": {
     "name": "#%%\n"
    }
   },
   "outputs": [],
   "source": [
    "def genprojectname():\n",
    "    return 'selenium-{}{}'.format(datetime.datetime.utcnow().strftime('%m%d%H%M%S%f'),random.randrange(1000))\n",
    "\n",
    "project_name = genprojectname()\n",
    "#project_name = 'test'"
   ]
  },
  {
   "cell_type": "code",
   "execution_count": null,
   "metadata": {},
   "outputs": [],
   "source": [
    "def nb_login():\n",
    "    bbs = random.expovariate(0.2)\n",
    "    time.sleep(bbs)\n",
    "\n",
    "    time_start = time.time()\n",
    "    instance.login(BASE_URL, USER, PASSWORD)\n",
    "    time_end = time.time()\n",
    "    time_length = time_end - time_start\n",
    "    return time_length\n",
    "\n",
    "def nb_create_project():\n",
    "    bbs = random.expovariate(0.2)\n",
    "    time.sleep(bbs)\n",
    "\n",
    "    time_start = time.time()\n",
    "    proj = instance.project(project_name)\n",
    "    proj.create()\n",
    "    time_end = time.time()\n",
    "    time_length = time_end - time_start\n",
    "    return time_length, proj\n",
    "\n",
    "def project_list(proj):\n",
    "    # think\n",
    "    if MEAN_THINK != \"\":\n",
    "        mean = float(MEAN_THINK)\n",
    "        bbs = random.expovariate(1/mean)\n",
    "        time.sleep(bbs)\n",
    "\n",
    "    start_time = time.time()\n",
    "    proj.list()\n",
    "    end = time.time()\n",
    "    duration = end - start_time\n",
    "    return duration\n",
    "def project_open(proj):\n",
    "    if MEAN_THINK != \"\":\n",
    "        mean = float(MEAN_THINK)\n",
    "        bbs = random.expovariate(1/mean)\n",
    "        time.sleep(bbs)\n",
    "\n",
    "    start_time = time.time()\n",
    "    proj.open(\"assets\")\n",
    "    end_time = time.time()\n",
    "    duration = end_time - start_time\n",
    "    return duration\n",
    "\n",
    "\n",
    "def data_preview(proj):\n",
    "    # think\n",
    "    if MEAN_THINK != \"\":\n",
    "        mean = float(MEAN_THINK)\n",
    "        bbs = random.expovariate(1/mean)\n",
    "        time.sleep(bbs)\n",
    "\n",
    "    start_time = time.time()\n",
    "    proj.asset_csv()\n",
    "    end_time = time.time()\n",
    "    duration = end_time - start_time\n",
    "    return duration"
   ]
  },
  {
   "cell_type": "code",
   "execution_count": null,
   "metadata": {},
   "outputs": [],
   "source": [
    "def data_refine(proj):\n",
    "    if MEAN_THINK != \"\":\n",
    "        mean = float(MEAN_THINK)\n",
    "        bbs = random.expovariate(1/mean)\n",
    "        time.sleep(bbs)\n",
    "\n",
    "    start_time = time.time()\n",
    "    proj.asset_refine()\n",
    "    end_time = time.time()    \n",
    "    duration = end_time - start_time\n",
    "    return duration\n",
    "\n",
    "def asset_list(proj):\n",
    "    if MEAN_THINK != \"\":\n",
    "        mean = float(MEAN_THINK)\n",
    "        bbs = random.expovariate(1/mean)\n",
    "        time.sleep(bbs)\n",
    "    return proj.asset_back()"
   ]
  },
  {
   "cell_type": "code",
   "execution_count": null,
   "metadata": {},
   "outputs": [],
   "source": [
    "def list_env(proj):\n",
    "    if MEAN_THINK != \"\":\n",
    "        mean = float(MEAN_THINK)\n",
    "        bbs = random.expovariate(1/mean)\n",
    "        time.sleep(bbs)\n",
    "\n",
    "    start_time = time.time()\n",
    "    proj.list_env(USER)\n",
    "    end_time = time.time()    \n",
    "    duration = end_time - start_time\n",
    "    return duration\n",
    "\n",
    "def stop_env(proj):\n",
    "    if MEAN_THINK != \"\":\n",
    "        mean = float(MEAN_THINK)\n",
    "        bbs = random.expovariate(1/mean)\n",
    "        time.sleep(bbs)\n",
    "\n",
    "    \n",
    "    start_time = time.time()\n",
    "    proj.stop_env(USER)\n",
    "    end_time = time.time()    \n",
    "    duration = end_time - start_time\n",
    "    return duration"
   ]
  },
  {
   "cell_type": "code",
   "execution_count": null,
   "metadata": {},
   "outputs": [],
   "source": [
    "def setupDashboard(mydashboard):\n",
    "    if MEAN_THINK != \"\":\n",
    "        mean = float(MEAN_THINK)\n",
    "        bbs = random.expovariate(1/mean)\n",
    "        time.sleep(bbs)\n",
    "    \n",
    "    start_time = time.time()\n",
    "    mydashboard.setup()\n",
    "    end_time = time.time()    \n",
    "    duration = end_time - start_time\n",
    "    return duration\n",
    "\n",
    "def navigate2Template(mydashboard):\n",
    "    if MEAN_THINK != \"\":\n",
    "        mean = float(MEAN_THINK)\n",
    "        bbs = random.expovariate(1/mean)\n",
    "        time.sleep(bbs)\n",
    "    start_time = time.time()\n",
    "    mydashboard.navigate2Template()\n",
    "    end_time = time.time()    \n",
    "    duration = end_time - start_time\n",
    "    return duration\n",
    " \n",
    "def navigate2Assets(mydashboard):\n",
    "    if MEAN_THINK != \"\":\n",
    "        mean = float(MEAN_THINK)\n",
    "        bbs = random.expovariate(1/mean)\n",
    "        time.sleep(bbs)\n",
    "   \n",
    "    return proj.navigate2Template()\n",
    "\n",
    "def removeDashboard(mydashboard):\n",
    "    if MEAN_THINK != \"\":\n",
    "        mean = float(MEAN_THINK)\n",
    "        bbs = random.expovariate(1/mean)\n",
    "        time.sleep(bbs)\n",
    "\n",
    "    start_time = time.time()\n",
    "    mydashboard.removeDashboard()\n",
    "    end_time = time.time()    \n",
    "    duration = end_time - start_time\n",
    "    return duration"
   ]
  },
  {
   "cell_type": "code",
   "execution_count": null,
   "metadata": {},
   "outputs": [],
   "source": [
    "for i in range(1, 10):\n",
    "    s = pow(2, i)\n",
    "    logging.info(\"wait %d sec. for EXECUTOR to ready. \" % s)\n",
    "    time.sleep(s)\n",
    "    try:\n",
    "        instance = instance.Instance(EXECUTOR,wait_timeout=120)\n",
    "        break\n",
    "    except Exception as e:\n",
    "        logging.info(\"connect to DRIVER fail\")"
   ]
  },
  {
   "cell_type": "code",
   "execution_count": null,
   "metadata": {},
   "outputs": [],
   "source": [
    "\n",
    "\n",
    "proj = instance.project(project_name)\n",
    "filename = \"airline.csv\"\n",
    "field1 = \"Date\"\n",
    "field2 = \"PM\"\n",
    "dashboard = proj.dashboard(filename, field1, field2)"
   ]
  },
  {
   "cell_type": "code",
   "execution_count": null,
   "metadata": {},
   "outputs": [],
   "source": [
    "login_time = nb_login()\n",
    "project_create_time, proj = nb_create_project()\n",
    "proj.data(\"/tmp/airline.csv\").upload()\n",
    "#proj.data(\"/tmp/sample/airline_data/airline.csv\").upload()\n"
   ]
  },
  {
   "cell_type": "code",
   "execution_count": null,
   "metadata": {},
   "outputs": [],
   "source": [
    "print('login_time, project_list_time, project_open_time,data_preview_time, data_refine_time,asset_list_time,list_env_time,stop_env_time')\n",
    "timeout = time.time() + 60* int(DURATION) \n",
    "\n",
    "total_count,error_count=0,0\n",
    "\n",
    "while time.time() < timeout: \n",
    "    try:\n",
    "        total_count+=1\n",
    "    \n",
    "        project_list_time = project_list(proj)\n",
    "        project_open_time = project_open(proj)\n",
    "        proj.navigate_content('assets',USER)\n",
    "        data_preview_time = data_preview(proj)\n",
    "        data_refine_time = data_refine(proj)\n",
    "        asset_list_time = asset_list(proj)\n",
    "        list_env_time= list_env(proj)\n",
    "        stop_env_time= stop_env(proj)\n",
    "        dashboard_setup_time = setupDashboard(dashboard)\n",
    "        navigate2Template_time = navigate2Template(dashboard)\n",
    "        navigate2Assets_time = asset_list(proj)\n",
    "        removeDashboard_time = removeDashboard(dashboard)\n",
    "    \n",
    "        print(\">, %f, %f ,%f, %f, %f, %f, %f , %f, %f, %f, %f , %f \" % (login_time, \n",
    "                                          project_list_time, \n",
    "                                          project_open_time,\n",
    "                                          data_preview_time, \n",
    "                                          data_refine_time,\n",
    "                                          asset_list_time,\n",
    "                                          list_env_time,\n",
    "                                          stop_env_time,\n",
    "                                          dashboard_setup_time,\n",
    "                                          navigate2Template_time,\n",
    "                                          navigate2Assets_time,\n",
    "                                          removeDashboard_time\n",
    "                                                    ),flush=True)\n",
    "       \n",
    "    except Exception as e:\n",
    "        print(e)\n",
    "        x=genprojectname()\n",
    "        util.print_image_base64_encoding(instance.driver, \"/tmp/%s.png\" % x)\n",
    "        error_count+=1\n",
    "        continue\n",
    "print(\"total_run:'%f',error_run:'%f'\" %(total_count,error_count))\n",
    "     \n",
    "   "
   ]
  },
  {
   "cell_type": "code",
   "execution_count": null,
   "metadata": {},
   "outputs": [],
   "source": [
    "try:\n",
    "    proj.delete()\n",
    "    instance.logout()\n",
    "    instance.close()\n",
    "except Exception as e:\n",
    "    print(e)\n",
    "    pass\n"
   ]
  },
  {
   "cell_type": "code",
   "execution_count": null,
   "metadata": {},
   "outputs": [],
   "source": []
  },
  {
   "cell_type": "code",
   "execution_count": null,
   "metadata": {},
   "outputs": [],
   "source": []
  }
 ],
 "metadata": {
  "interpreter": {
   "hash": "31f2aee4e71d21fbe5cf8b01ff0e069b9275f58929596ceb00d14d90e3e16cd6"
  },
  "kernelspec": {
   "display_name": "Python 3 (ipykernel)",
   "language": "python",
   "name": "python3"
  },
  "language_info": {
   "codemirror_mode": {
    "name": "ipython",
    "version": 3
   },
   "file_extension": ".py",
   "mimetype": "text/x-python",
   "name": "python",
   "nbconvert_exporter": "python",
   "pygments_lexer": "ipython3",
   "version": "3.11.7"
  }
 },
 "nbformat": 4,
 "nbformat_minor": 1
}
