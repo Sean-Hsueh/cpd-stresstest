{
 "cells": [
  {
   "cell_type": "code",
   "execution_count": 14,
   "metadata": {},
   "outputs": [
    {
     "name": "stdout",
     "output_type": "stream",
     "text": [
      "\u001b[33mDEPRECATION: Configuring installation scheme with distutils config files is deprecated and will no longer work in the near future. If you are using a Homebrew or Linuxbrew Python, please see discussion at https://github.com/Homebrew/homebrew-core/issues/76621\u001b[0m\n",
      "Requirement already satisfied: selenium in /usr/local/lib/python3.9/site-packages (3.141.0)\n",
      "Requirement already satisfied: urllib3 in /usr/local/lib/python3.9/site-packages (from selenium) (1.26.6)\n"
     ]
    }
   ],
   "source": [
    "!pip3 install selenium"
   ]
  },
  {
   "cell_type": "code",
   "execution_count": null,
   "metadata": {},
   "outputs": [],
   "source": []
  },
  {
   "cell_type": "code",
   "execution_count": 15,
   "metadata": {
    "pycharm": {
     "name": "#%%\n"
    }
   },
   "outputs": [],
   "source": [
    "from DasUITesting import instance, util\n",
    "from selenium.common.exceptions import TimeoutException\n",
    "from selenium.common.exceptions import StaleElementReferenceException\n",
    "import time\n",
    "import os\n",
    "import logging\n",
    "import random\n",
    "import datetime\n",
    "\n",
    "\n",
    "\n",
    "FORMAT = '%(asctime)s %(levelname)s: %(message)s'\n",
    "#logging.basicConfig(level=logging.WARN, format=FORMAT)\n",
    "logging.basicConfig(level=logging.INFO, format=FORMAT)"
   ]
  },
  {
   "cell_type": "code",
   "execution_count": 16,
   "metadata": {
    "pycharm": {
     "name": "#%%\n"
    }
   },
   "outputs": [],
   "source": [
    "# get env var\n",
    "BASE_URL   = os.environ.get('DAS_INSTANCE')    if os.environ.get('DAS_INSTANCE')    is not None else \"https://das.edu-cloud.nchc.org.tw/\"\n",
    "USER       = os.environ.get('DAS_USER')        if os.environ.get('DAS_USER')        is not None else \"usera\"\n",
    "PASSWORD   = os.environ.get('DAS_PASSWORD')    if os.environ.get('DAS_PASSWORD')    is not None else \"keip3Rea\"\n",
    "#EXECUTOR   = os.environ.get('REMOTE_EXECUTOR') if os.environ.get('REMOTE_EXECUTOR') is not None else \"http://140.110.136.74:30052/wd/hub\"\n",
    "EXECUTOR   = os.environ.get('REMOTE_EXECUTOR') if os.environ.get('REMOTE_EXECUTOR') is not None else \"http://127.0.0.1:4444/wd/hub\"\n",
    "MEAN_THINK = os.environ.get('MEAN_THINK')      if os.environ.get('MEAN_THINK')      is not None else \"10\"\n",
    "DURATION   = os.environ.get('DURATION')        if os.environ.get('DURATION')        is not None else \"6\""
   ]
  },
  {
   "cell_type": "code",
   "execution_count": 17,
   "metadata": {
    "pycharm": {
     "name": "#%%\n"
    }
   },
   "outputs": [],
   "source": [
    "def genprojectname():\n",
    "    return 'selenium-{}{}'.format(datetime.datetime.utcnow().strftime('%m%d%H%M%S%f'),random.randrange(1000))\n",
    "\n",
    "project_name = genprojectname()\n",
    "#project_name = 'test'"
   ]
  },
  {
   "cell_type": "code",
   "execution_count": 18,
   "metadata": {},
   "outputs": [],
   "source": [
    "def nb_login():\n",
    "    bbs = random.expovariate(0.2)\n",
    "    time.sleep(bbs)\n",
    "\n",
    "    time_start = time.time()\n",
    "    instance.login(BASE_URL, USER, PASSWORD)\n",
    "    time_end = time.time()\n",
    "    time_length = time_end - time_start\n",
    "    return time_length\n",
    "\n",
    "def nb_create_project():\n",
    "    bbs = random.expovariate(0.2)\n",
    "    time.sleep(bbs)\n",
    "\n",
    "    time_start = time.time()\n",
    "    proj = instance.project(project_name)\n",
    "    proj.create()\n",
    "    time_end = time.time()\n",
    "    time_length = time_end - time_start\n",
    "    return time_length, proj\n",
    "\n",
    "def project_list(proj):\n",
    "    # think\n",
    "    if MEAN_THINK != \"\":\n",
    "        mean = float(MEAN_THINK)\n",
    "        bbs = random.expovariate(1/mean)\n",
    "        time.sleep(bbs)\n",
    "\n",
    "    start_time = time.time()\n",
    "    proj.list()\n",
    "    end = time.time()\n",
    "    duration = end - start_time\n",
    "    return duration\n",
    "def project_open(proj):\n",
    "    if MEAN_THINK != \"\":\n",
    "        mean = float(MEAN_THINK)\n",
    "        bbs = random.expovariate(1/mean)\n",
    "        time.sleep(bbs)\n",
    "\n",
    "    start_time = time.time()\n",
    "    proj.open(\"assets\")\n",
    "    end_time = time.time()\n",
    "    duration = end_time - start_time\n",
    "    return duration\n",
    "\n",
    "\n",
    "def data_preview(proj):\n",
    "    # think\n",
    "    if MEAN_THINK != \"\":\n",
    "        mean = float(MEAN_THINK)\n",
    "        bbs = random.expovariate(1/mean)\n",
    "        time.sleep(bbs)\n",
    "\n",
    "    start_time = time.time()\n",
    "    proj.asset_csv()\n",
    "    end_time = time.time()\n",
    "    duration = end_time - start_time\n",
    "    return duration"
   ]
  },
  {
   "cell_type": "code",
   "execution_count": 19,
   "metadata": {},
   "outputs": [],
   "source": [
    "def data_refine(proj):\n",
    "    if MEAN_THINK != \"\":\n",
    "        mean = float(MEAN_THINK)\n",
    "        bbs = random.expovariate(1/mean)\n",
    "        time.sleep(bbs)\n",
    "\n",
    "    start_time = time.time()\n",
    "    proj.asset_refine()\n",
    "    end_time = time.time()    \n",
    "    duration = end_time - start_time\n",
    "    return duration\n",
    "\n",
    "def asset_list(proj):\n",
    "    if MEAN_THINK != \"\":\n",
    "        mean = float(MEAN_THINK)\n",
    "        bbs = random.expovariate(1/mean)\n",
    "        time.sleep(bbs)\n",
    "    return proj.asset_back()"
   ]
  },
  {
   "cell_type": "code",
   "execution_count": 20,
   "metadata": {},
   "outputs": [],
   "source": [
    "def list_env(proj):\n",
    "    if MEAN_THINK != \"\":\n",
    "        mean = float(MEAN_THINK)\n",
    "        bbs = random.expovariate(1/mean)\n",
    "        time.sleep(bbs)\n",
    "\n",
    "    start_time = time.time()\n",
    "    proj.list_env(USER)\n",
    "    end_time = time.time()    \n",
    "    duration = end_time - start_time\n",
    "    return duration\n",
    "\n",
    "def stop_env(proj):\n",
    "    if MEAN_THINK != \"\":\n",
    "        mean = float(MEAN_THINK)\n",
    "        bbs = random.expovariate(1/mean)\n",
    "        time.sleep(bbs)\n",
    "\n",
    "    \n",
    "    start_time = time.time()\n",
    "    proj.stop_env(USER)\n",
    "    end_time = time.time()    \n",
    "    duration = end_time - start_time\n",
    "    return duration"
   ]
  },
  {
   "cell_type": "code",
   "execution_count": 21,
   "metadata": {},
   "outputs": [],
   "source": [
    "def setupDashboard(mydashboard):\n",
    "    if MEAN_THINK != \"\":\n",
    "        mean = float(MEAN_THINK)\n",
    "        bbs = random.expovariate(1/mean)\n",
    "        time.sleep(bbs)\n",
    "    \n",
    "    start_time = time.time()\n",
    "    mydashboard.setup()\n",
    "    end_time = time.time()    \n",
    "    duration = end_time - start_time\n",
    "    return duration\n",
    "\n",
    "def navigate2Template(mydashboard):\n",
    "    if MEAN_THINK != \"\":\n",
    "        mean = float(MEAN_THINK)\n",
    "        bbs = random.expovariate(1/mean)\n",
    "        time.sleep(bbs)\n",
    "    start_time = time.time()\n",
    "    mydashboard.navigate2Template()\n",
    "    end_time = time.time()    \n",
    "    duration = end_time - start_time\n",
    "    return duration\n",
    " \n",
    "def navigate2Assets(mydashboard):\n",
    "    if MEAN_THINK != \"\":\n",
    "        mean = float(MEAN_THINK)\n",
    "        bbs = random.expovariate(1/mean)\n",
    "        time.sleep(bbs)\n",
    "   \n",
    "    return proj.navigate2Template()\n",
    "\n",
    "def removeDashboard(mydashboard):\n",
    "    if MEAN_THINK != \"\":\n",
    "        mean = float(MEAN_THINK)\n",
    "        bbs = random.expovariate(1/mean)\n",
    "        time.sleep(bbs)\n",
    "\n",
    "    start_time = time.time()\n",
    "    mydashboard.removeDashboard()\n",
    "    end_time = time.time()    \n",
    "    duration = end_time - start_time\n",
    "    return duration"
   ]
  },
  {
   "cell_type": "code",
   "execution_count": 22,
   "metadata": {},
   "outputs": [
    {
     "name": "stderr",
     "output_type": "stream",
     "text": [
      "2021-09-27 12:34:28,307 INFO: wait 2 sec. for EXECUTOR to ready. \n"
     ]
    }
   ],
   "source": [
    "for i in range(1, 10):\n",
    "    s = pow(2, i)\n",
    "    logging.info(\"wait %d sec. for EXECUTOR to ready. \" % s)\n",
    "    time.sleep(s)\n",
    "    try:\n",
    "        instance = instance.Instance(EXECUTOR,wait_timeout=120)\n",
    "        break\n",
    "    except Exception as e:\n",
    "        logging.info(\"connect to DRIVER fail\")"
   ]
  },
  {
   "cell_type": "code",
   "execution_count": 23,
   "metadata": {},
   "outputs": [],
   "source": [
    "\n",
    "\n",
    "proj = instance.project(project_name)\n",
    "filename = \"airline.csv\"\n",
    "field1 = \"Date\"\n",
    "field2 = \"PM\"\n",
    "dashboard = proj.dashboard(filename, field1, field2)"
   ]
  },
  {
   "cell_type": "code",
   "execution_count": 24,
   "metadata": {},
   "outputs": [
    {
     "name": "stderr",
     "output_type": "stream",
     "text": [
      "2021-09-27 12:35:10,812 INFO: selenium-0927043428264556686\n"
     ]
    }
   ],
   "source": [
    "login_time = nb_login()\n",
    "project_create_time, proj = nb_create_project()\n",
    "proj.data(\"/tmp/airline.csv\").upload()\n",
    "#proj.data(\"/tmp/sample/airline_data/airline.csv\").upload()\n"
   ]
  },
  {
   "cell_type": "code",
   "execution_count": 25,
   "metadata": {},
   "outputs": [
    {
     "name": "stdout",
     "output_type": "stream",
     "text": [
      "login_time, project_list_time, project_open_time,data_preview_time, data_refine_time,asset_list_time,list_env_time,stop_env_time\n"
     ]
    },
    {
     "name": "stderr",
     "output_type": "stream",
     "text": [
      "2021-09-27 12:36:40,451 INFO: waited 1 sec. for iframe available. \n",
      "2021-09-27 12:36:41,482 INFO: waited 2 sec. for iframe available. \n",
      "2021-09-27 12:36:44,483 INFO: waited 3 sec. for iframe available. \n",
      "2021-09-27 12:36:45,911 INFO: waited 4 sec. for iframe available. \n",
      "2021-09-27 12:37:25,535 INFO: waited 1 sec. for dashboard deleted. \n",
      "2021-09-27 12:37:25,565 INFO: dashboard deleted after waiting 1 sec.\n"
     ]
    },
    {
     "name": "stdout",
     "output_type": "stream",
     "text": [
      ">, 18.426098, 2.146258 ,2.424528, 4.242819, 9.116047, 0.593757, 1.098888 , 2.071434, 3.501486, 7.776426, 4.093815 , 1.531911 \n"
     ]
    },
    {
     "name": "stderr",
     "output_type": "stream",
     "text": [
      "2021-09-27 12:39:55,706 INFO: waited 1 sec. for iframe available. \n",
      "2021-09-27 12:39:58,773 INFO: waited 2 sec. for iframe available. \n"
     ]
    },
    {
     "ename": "KeyboardInterrupt",
     "evalue": "",
     "output_type": "error",
     "traceback": [
      "\u001b[0;31m---------------------------------------------------------------------------\u001b[0m",
      "\u001b[0;31mKeyboardInterrupt\u001b[0m                         Traceback (most recent call last)",
      "\u001b[0;32m/var/folders/w_/cj942pf11sj42lxjqqn6tc9r0000gn/T/ipykernel_89418/3651954450.py\u001b[0m in \u001b[0;36m<module>\u001b[0;34m\u001b[0m\n\u001b[1;32m     19\u001b[0m         \u001b[0mnavigate2Template_time\u001b[0m \u001b[0;34m=\u001b[0m \u001b[0mnavigate2Template\u001b[0m\u001b[0;34m(\u001b[0m\u001b[0mdashboard\u001b[0m\u001b[0;34m)\u001b[0m\u001b[0;34m\u001b[0m\u001b[0;34m\u001b[0m\u001b[0m\n\u001b[1;32m     20\u001b[0m         \u001b[0mnavigate2Assets_time\u001b[0m \u001b[0;34m=\u001b[0m \u001b[0masset_list\u001b[0m\u001b[0;34m(\u001b[0m\u001b[0mproj\u001b[0m\u001b[0;34m)\u001b[0m\u001b[0;34m\u001b[0m\u001b[0;34m\u001b[0m\u001b[0m\n\u001b[0;32m---> 21\u001b[0;31m         \u001b[0mremoveDashboard_time\u001b[0m \u001b[0;34m=\u001b[0m \u001b[0mremoveDashboard\u001b[0m\u001b[0;34m(\u001b[0m\u001b[0mdashboard\u001b[0m\u001b[0;34m)\u001b[0m\u001b[0;34m\u001b[0m\u001b[0;34m\u001b[0m\u001b[0m\n\u001b[0m\u001b[1;32m     22\u001b[0m \u001b[0;34m\u001b[0m\u001b[0m\n\u001b[1;32m     23\u001b[0m         print(\">, %f, %f ,%f, %f, %f, %f, %f , %f, %f, %f, %f , %f \" % (login_time, \n",
      "\u001b[0;32m/var/folders/w_/cj942pf11sj42lxjqqn6tc9r0000gn/T/ipykernel_89418/2780063318.py\u001b[0m in \u001b[0;36mremoveDashboard\u001b[0;34m(mydashboard)\u001b[0m\n\u001b[1;32m     37\u001b[0m \u001b[0;34m\u001b[0m\u001b[0m\n\u001b[1;32m     38\u001b[0m     \u001b[0mstart_time\u001b[0m \u001b[0;34m=\u001b[0m \u001b[0mtime\u001b[0m\u001b[0;34m.\u001b[0m\u001b[0mtime\u001b[0m\u001b[0;34m(\u001b[0m\u001b[0;34m)\u001b[0m\u001b[0;34m\u001b[0m\u001b[0;34m\u001b[0m\u001b[0m\n\u001b[0;32m---> 39\u001b[0;31m     \u001b[0mmydashboard\u001b[0m\u001b[0;34m.\u001b[0m\u001b[0mremoveDashboard\u001b[0m\u001b[0;34m(\u001b[0m\u001b[0;34m)\u001b[0m\u001b[0;34m\u001b[0m\u001b[0;34m\u001b[0m\u001b[0m\n\u001b[0m\u001b[1;32m     40\u001b[0m     \u001b[0mend_time\u001b[0m \u001b[0;34m=\u001b[0m \u001b[0mtime\u001b[0m\u001b[0;34m.\u001b[0m\u001b[0mtime\u001b[0m\u001b[0;34m(\u001b[0m\u001b[0;34m)\u001b[0m\u001b[0;34m\u001b[0m\u001b[0;34m\u001b[0m\u001b[0m\n\u001b[1;32m     41\u001b[0m     \u001b[0mduration\u001b[0m \u001b[0;34m=\u001b[0m \u001b[0mend_time\u001b[0m \u001b[0;34m-\u001b[0m \u001b[0mstart_time\u001b[0m\u001b[0;34m\u001b[0m\u001b[0;34m\u001b[0m\u001b[0m\n",
      "\u001b[0;32m/usr/local/lib/python3.9/site-packages/DasUITesting/project/dashboard.py\u001b[0m in \u001b[0;36mremoveDashboard\u001b[0;34m(self)\u001b[0m\n\u001b[1;32m    233\u001b[0m     \u001b[0;32mdef\u001b[0m \u001b[0mremoveDashboard\u001b[0m\u001b[0;34m(\u001b[0m\u001b[0mself\u001b[0m\u001b[0;34m)\u001b[0m\u001b[0;34m:\u001b[0m\u001b[0;34m\u001b[0m\u001b[0;34m\u001b[0m\u001b[0m\n\u001b[1;32m    234\u001b[0m \u001b[0;34m\u001b[0m\u001b[0m\n\u001b[0;32m--> 235\u001b[0;31m         self.wait.until(\n\u001b[0m\u001b[1;32m    236\u001b[0m             EC.visibility_of_element_located((By.XPATH, \"//td[contains(@class,'actionColumn')]/div[contains(@class,'DashboardAsset-light__actionColumn')]/div[1]\"))).click()\n\u001b[1;32m    237\u001b[0m         self.wait.until(\n",
      "\u001b[0;32m/usr/local/lib/python3.9/site-packages/selenium/webdriver/support/wait.py\u001b[0m in \u001b[0;36muntil\u001b[0;34m(self, method, message)\u001b[0m\n\u001b[1;32m     75\u001b[0m                 \u001b[0mscreen\u001b[0m \u001b[0;34m=\u001b[0m \u001b[0mgetattr\u001b[0m\u001b[0;34m(\u001b[0m\u001b[0mexc\u001b[0m\u001b[0;34m,\u001b[0m \u001b[0;34m'screen'\u001b[0m\u001b[0;34m,\u001b[0m \u001b[0;32mNone\u001b[0m\u001b[0;34m)\u001b[0m\u001b[0;34m\u001b[0m\u001b[0;34m\u001b[0m\u001b[0m\n\u001b[1;32m     76\u001b[0m                 \u001b[0mstacktrace\u001b[0m \u001b[0;34m=\u001b[0m \u001b[0mgetattr\u001b[0m\u001b[0;34m(\u001b[0m\u001b[0mexc\u001b[0m\u001b[0;34m,\u001b[0m \u001b[0;34m'stacktrace'\u001b[0m\u001b[0;34m,\u001b[0m \u001b[0;32mNone\u001b[0m\u001b[0;34m)\u001b[0m\u001b[0;34m\u001b[0m\u001b[0;34m\u001b[0m\u001b[0m\n\u001b[0;32m---> 77\u001b[0;31m             \u001b[0mtime\u001b[0m\u001b[0;34m.\u001b[0m\u001b[0msleep\u001b[0m\u001b[0;34m(\u001b[0m\u001b[0mself\u001b[0m\u001b[0;34m.\u001b[0m\u001b[0m_poll\u001b[0m\u001b[0;34m)\u001b[0m\u001b[0;34m\u001b[0m\u001b[0;34m\u001b[0m\u001b[0m\n\u001b[0m\u001b[1;32m     78\u001b[0m             \u001b[0;32mif\u001b[0m \u001b[0mtime\u001b[0m\u001b[0;34m.\u001b[0m\u001b[0mtime\u001b[0m\u001b[0;34m(\u001b[0m\u001b[0;34m)\u001b[0m \u001b[0;34m>\u001b[0m \u001b[0mend_time\u001b[0m\u001b[0;34m:\u001b[0m\u001b[0;34m\u001b[0m\u001b[0;34m\u001b[0m\u001b[0m\n\u001b[1;32m     79\u001b[0m                 \u001b[0;32mbreak\u001b[0m\u001b[0;34m\u001b[0m\u001b[0;34m\u001b[0m\u001b[0m\n",
      "\u001b[0;31mKeyboardInterrupt\u001b[0m: "
     ]
    }
   ],
   "source": [
    "print('login_time, project_list_time, project_open_time,data_preview_time, data_refine_time,asset_list_time,list_env_time,stop_env_time')\n",
    "timeout = time.time() + 60* int(DURATION) \n",
    "\n",
    "total_count,error_count=0,0\n",
    "\n",
    "while time.time() < timeout: \n",
    "    try:\n",
    "        total_count+=1\n",
    "    \n",
    "        project_list_time = project_list(proj)\n",
    "        project_open_time = project_open(proj)\n",
    "        proj.navigate_content('assets',USER)\n",
    "        data_preview_time = data_preview(proj)\n",
    "        data_refine_time = data_refine(proj)\n",
    "        asset_list_time = asset_list(proj)\n",
    "        list_env_time= list_env(proj)\n",
    "        stop_env_time= stop_env(proj)\n",
    "        dashboard_setup_time = setupDashboard(dashboard)\n",
    "        navigate2Template_time = navigate2Template(dashboard)\n",
    "        navigate2Assets_time = asset_list(proj)\n",
    "        removeDashboard_time = removeDashboard(dashboard)\n",
    "    \n",
    "        print(\">, %f, %f ,%f, %f, %f, %f, %f , %f, %f, %f, %f , %f \" % (login_time, \n",
    "                                          project_list_time, \n",
    "                                          project_open_time,\n",
    "                                          data_preview_time, \n",
    "                                          data_refine_time,\n",
    "                                          asset_list_time,\n",
    "                                          list_env_time,\n",
    "                                          stop_env_time,\n",
    "                                          dashboard_setup_time,\n",
    "                                          navigate2Template_time,\n",
    "                                          navigate2Assets_time,\n",
    "                                          removeDashboard_time\n",
    "                                                    ),flush=True)\n",
    "       \n",
    "    except Exception as e:\n",
    "        print(e)\n",
    "        x=genprojectname()\n",
    "        util.print_image_base64_encoding(instance.driver, \"/tmp/%s.png\" % x)\n",
    "        error_count+=1\n",
    "        continue\n",
    "print(\"total_run:'%f',error_run:'%f'\" %(total_count,error_count))\n",
    "     \n",
    "   "
   ]
  },
  {
   "cell_type": "code",
   "execution_count": null,
   "metadata": {},
   "outputs": [],
   "source": [
    "try:\n",
    "    proj.delete()\n",
    "    instance.logout()\n",
    "    instance.close()\n",
    "except Exception as e:\n",
    "    print(e)\n",
    "    pass\n"
   ]
  },
  {
   "cell_type": "code",
   "execution_count": null,
   "metadata": {},
   "outputs": [],
   "source": []
  },
  {
   "cell_type": "code",
   "execution_count": null,
   "metadata": {},
   "outputs": [],
   "source": []
  }
 ],
 "metadata": {
  "interpreter": {
   "hash": "31f2aee4e71d21fbe5cf8b01ff0e069b9275f58929596ceb00d14d90e3e16cd6"
  },
  "kernelspec": {
   "display_name": "Python 3 (ipykernel)",
   "language": "python",
   "name": "python3"
  },
  "language_info": {
   "codemirror_mode": {
    "name": "ipython",
    "version": 3
   },
   "file_extension": ".py",
   "mimetype": "text/x-python",
   "name": "python",
   "nbconvert_exporter": "python",
   "pygments_lexer": "ipython3",
   "version": "3.9.6"
  }
 },
 "nbformat": 4,
 "nbformat_minor": 1
}
