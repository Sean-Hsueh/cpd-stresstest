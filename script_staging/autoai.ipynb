{
 "cells": [
  {
   "cell_type": "code",
   "execution_count": null,
   "metadata": {},
   "outputs": [],
   "source": [
    "!pip install selenium"
   ]
  },
  {
   "cell_type": "code",
   "execution_count": null,
   "metadata": {},
   "outputs": [],
   "source": [
    "from DasUITesting import instance, project, util\n",
    "import time\n",
    "import os\n",
    "import datetime\n",
    "import pytz\n",
    "import logging\n",
    "import requests, json\n",
    "\n",
    "\n",
    "FORMAT = '%(asctime)s %(levelname)s: %(message)s'\n",
    "logging.basicConfig(level=logging.INFO, format=FORMAT)"
   ]
  },
  {
   "cell_type": "code",
   "execution_count": null,
   "metadata": {},
   "outputs": [],
   "source": [
    "# get env var\n",
    "BASE_URL = os.environ.get('DAS_INSTANCE')\n",
    "USER = os.environ.get('DAS_USER')\n",
    "PASSWORD = os.environ.get('DAS_PASSWORD')\n",
    "EXECUTOR = os.environ.get('REMOTE_EXECUTOR')\n",
    "# \n",
    "# BASE_URL = \"https://lab.das.twcc.ai\"\n",
    "# USER = \"das\"\n",
    "# PASSWORD = \"NchcDAS@2020\"\n",
    "# EXECUTOR = \"http://140.110.136.74:30052/wd/hub\""
   ]
  },
  {
   "cell_type": "code",
   "execution_count": null,
   "metadata": {},
   "outputs": [],
   "source": [
    "def get_token(user, password):\n",
    "    header = {\n",
    "        \"cache-control\": \"no-cache\",\n",
    "        \"Content-Type\": \"application/json\",\n",
    "    }\n",
    "\n",
    "\n",
    "    post_data = {\n",
    "        \"username\": user,\n",
    "        \"password\": password,\n",
    "    }\n",
    "\n",
    "    response = requests.post(\n",
    "        \"%s/icp4d-api/v1/authorize\" % BASE_URL.strip(\"/\"),\n",
    "        json=post_data,\n",
    "        headers=header,\n",
    "    )\n",
    "\n",
    "    res = json.loads(response.text)\n",
    "    return res[\"token\"]        "
   ]
  },
  {
   "cell_type": "code",
   "execution_count": null,
   "metadata": {},
   "outputs": [],
   "source": [
    "def verify_deployment(token, endpoint, field, value):\n",
    "\n",
    "    header = {\n",
    "        \"Content-Type\": \"application/json\",\n",
    "        \"Authorization\": \"Bearer \" + token,\n",
    "    }\n",
    "\n",
    "    payload_scoring = {\n",
    "        \"input_data\": [\n",
    "            {\n",
    "                \"fields\": field,\n",
    "                \"values\": [value],\n",
    "            }\n",
    "        ]\n",
    "    }\n",
    "\n",
    "    response_scoring = requests.post(\n",
    "        endpoint,\n",
    "        json=payload_scoring,\n",
    "        headers=header,\n",
    "    )\n",
    "\n",
    "    logging.info(json.loads(response_scoring.text))"
   ]
  },
  {
   "cell_type": "code",
   "execution_count": null,
   "metadata": {},
   "outputs": [],
   "source": [
    "now = datetime.datetime.now(pytz.timezone('Asia/Taipei'))\n",
    "name_suffix = now.strftime('by-selenium-at-%Y%m%d-%H%M%S')\n",
    "project_name = \"autoai-%s\" % name_suffix\n",
    "autoai_name = \"autoai-%s\" % name_suffix\n",
    "space_name=\"space-%s\" % name_suffix\n",
    "deployment_name = \"deployment-%s\" % name_suffix"
   ]
  },
  {
   "cell_type": "code",
   "execution_count": null,
   "metadata": {},
   "outputs": [],
   "source": [
    "start = time.time()"
   ]
  },
  {
   "cell_type": "code",
   "execution_count": null,
   "metadata": {},
   "outputs": [],
   "source": [
    "try:\n",
    "    instance = instance.Instance(EXECUTOR)\n",
    "    instance.login(BASE_URL, USER, PASSWORD)\n",
    "    deployment = instance.deployment()\n",
    "    project = instance.project(project_name)\n",
    "    project.create()\n",
    "\n",
    "    logging.info(\"upload test data\")\n",
    "    project.data(\"/tmp/sample/go_sales_data/GoSales.csv\").upload()\n",
    "    space = deployment.space(space_name)\n",
    "    space.create()\n",
    "    autoai = project.autoai(autoai_name)\n",
    "\n",
    "    logging.info(\"run autoai experiment\")\n",
    "    autoai.run_experiment(\"GoSales.csv\", \"IS_TENT\")\n",
    "    \n",
    "    logging.info(\"save optimized model\")\n",
    "    autoai.saveModel()\n",
    "    logging.info(\"promote optimized model\")\n",
    "    autoai.promoteModel(space_name)\n",
    "\n",
    "    logging.info(\"deploy to space\")\n",
    "    space.deploy(deployment_name)\n",
    "\n",
    "    logging.info(\"verify deployed model\")\n",
    "    endpoint = space.get_endpoint(deployment_name)\n",
    "    token = get_token(USER,PASSWORD)\n",
    "    field = [\"GENDER\",\"AGE\",\"MARITAL_STATUS\",\"PROFESSION\",\"PRODUCT_LINE\",\"PURCHASE_AMOUNT\"]\n",
    "    value = [\"M\", 27, \"Single\", \"Professional\", \"Camping Equipment\", 144.78]\n",
    "    verify_deployment(token, endpoint, field, value)\n",
    "    \n",
    "    logging.info(\"tear down created resource\")\n",
    "    space.undeploy(deployment_name)\n",
    "    space.delete()\n",
    "    project.delete()\n",
    "    instance.logout()\n",
    "    instance.close()\n",
    "except Exception as e:\n",
    "    util.print_image_base64_encoding(instance.driver, \"/tmp/%s.png\" % project_name)\n",
    "    raise    "
   ]
  },
  {
   "cell_type": "code",
   "execution_count": null,
   "metadata": {},
   "outputs": [],
   "source": [
    "\n",
    "end = time.time()\n",
    "logging.info(\"執行時間：%f 秒\" % (end - start))"
   ]
  },
  {
   "cell_type": "code",
   "execution_count": null,
   "metadata": {},
   "outputs": [],
   "source": []
  }
 ],
 "metadata": {
  "interpreter": {
   "hash": "d1e07294c00812fe9d9cd68bcde7e7e115eaf8fdaea669a73593791dd2a8f09d"
  },
  "kernelspec": {
   "display_name": "Python 3.9.2 64-bit ('selenium-venv': venv)",
   "name": "python3"
  },
  "language_info": {
   "codemirror_mode": {
    "name": "ipython",
    "version": 3
   },
   "file_extension": ".py",
   "mimetype": "text/x-python",
   "name": "python",
   "nbconvert_exporter": "python",
   "pygments_lexer": "ipython3",
   "version": "3.9.2"
  },
  "orig_nbformat": 4
 },
 "nbformat": 4,
 "nbformat_minor": 2
}