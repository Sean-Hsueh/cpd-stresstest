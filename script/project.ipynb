{
 "cells": [
  {
   "cell_type": "code",
   "execution_count": 13,
   "metadata": {},
   "outputs": [
    {
     "name": "stdout",
     "output_type": "stream",
     "text": [
      "Defaulting to user installation because normal site-packages is not writeable\n",
      "Requirement already satisfied: selenium in /Users/sean/Library/Python/3.9/lib/python/site-packages (4.17.2)\n",
      "Collecting pytz\n",
      "  Obtaining dependency information for pytz from https://files.pythonhosted.org/packages/32/4d/aaf7eff5deb402fd9a24a1449a8119f00d74ae9c2efa79f8ef9994261fc2/pytz-2023.3.post1-py2.py3-none-any.whl.metadata\n",
      "  Downloading pytz-2023.3.post1-py2.py3-none-any.whl.metadata (22 kB)\n",
      "Requirement already satisfied: urllib3[socks]<3,>=1.26 in /Users/sean/Library/Python/3.9/lib/python/site-packages (from selenium) (2.0.4)\n",
      "Requirement already satisfied: trio~=0.17 in /Users/sean/Library/Python/3.9/lib/python/site-packages (from selenium) (0.24.0)\n",
      "Requirement already satisfied: trio-websocket~=0.9 in /Users/sean/Library/Python/3.9/lib/python/site-packages (from selenium) (0.11.1)\n",
      "Requirement already satisfied: certifi>=2021.10.8 in /Users/sean/Library/Python/3.9/lib/python/site-packages (from selenium) (2023.7.22)\n",
      "Requirement already satisfied: typing_extensions>=4.9.0 in /Users/sean/Library/Python/3.9/lib/python/site-packages (from selenium) (4.9.0)\n",
      "Requirement already satisfied: attrs>=20.1.0 in /Users/sean/Library/Python/3.9/lib/python/site-packages (from trio~=0.17->selenium) (23.1.0)\n",
      "Requirement already satisfied: sortedcontainers in /Users/sean/Library/Python/3.9/lib/python/site-packages (from trio~=0.17->selenium) (2.4.0)\n",
      "Requirement already satisfied: idna in /Users/sean/Library/Python/3.9/lib/python/site-packages (from trio~=0.17->selenium) (3.4)\n",
      "Requirement already satisfied: outcome in /Users/sean/Library/Python/3.9/lib/python/site-packages (from trio~=0.17->selenium) (1.3.0.post0)\n",
      "Requirement already satisfied: sniffio>=1.3.0 in /Users/sean/Library/Python/3.9/lib/python/site-packages (from trio~=0.17->selenium) (1.3.0)\n",
      "Requirement already satisfied: exceptiongroup in /Users/sean/Library/Python/3.9/lib/python/site-packages (from trio~=0.17->selenium) (1.1.2)\n",
      "Requirement already satisfied: wsproto>=0.14 in /Users/sean/Library/Python/3.9/lib/python/site-packages (from trio-websocket~=0.9->selenium) (1.2.0)\n",
      "Requirement already satisfied: pysocks!=1.5.7,<2.0,>=1.5.6 in /Users/sean/Library/Python/3.9/lib/python/site-packages (from urllib3[socks]<3,>=1.26->selenium) (1.7.1)\n",
      "Requirement already satisfied: h11<1,>=0.9.0 in /Users/sean/Library/Python/3.9/lib/python/site-packages (from wsproto>=0.14->trio-websocket~=0.9->selenium) (0.14.0)\n",
      "Downloading pytz-2023.3.post1-py2.py3-none-any.whl (502 kB)\n",
      "\u001b[2K   \u001b[90m━━━━━━━━━━━━━━━━━━━━━━━━━━━━━━━━━━━━━━━━\u001b[0m \u001b[32m502.5/502.5 kB\u001b[0m \u001b[31m2.1 MB/s\u001b[0m eta \u001b[36m0:00:00\u001b[0ma \u001b[36m0:00:01\u001b[0m\n",
      "\u001b[?25hInstalling collected packages: pytz\n",
      "Successfully installed pytz-2023.3.post1\n",
      "\n",
      "\u001b[1m[\u001b[0m\u001b[34;49mnotice\u001b[0m\u001b[1;39;49m]\u001b[0m\u001b[39;49m A new release of pip is available: \u001b[0m\u001b[31;49m23.2.1\u001b[0m\u001b[39;49m -> \u001b[0m\u001b[32;49m23.3.2\u001b[0m\n",
      "\u001b[1m[\u001b[0m\u001b[34;49mnotice\u001b[0m\u001b[1;39;49m]\u001b[0m\u001b[39;49m To update, run: \u001b[0m\u001b[32;49m/Library/Developer/CommandLineTools/usr/bin/python3 -m pip install --upgrade pip\u001b[0m\n"
     ]
    }
   ],
   "source": [
    "!pip install selenium pytz"
   ]
  },
  {
   "cell_type": "code",
   "execution_count": 14,
   "metadata": {
    "pycharm": {
     "name": "#%%\n"
    }
   },
   "outputs": [],
   "source": [
    "import sys\n",
    "sys.path.append('/Users/sean/ibmWorkSpace/cpd-stresstest/')\n",
    "\n",
    "from DasUITesting import instance, util\n",
    "import time\n",
    "import os\n",
    "import datetime\n",
    "import pytz\n",
    "import logging\n",
    "\n",
    "\n",
    "FORMAT = '%(asctime)s %(levelname)s: %(message)s'\n",
    "logging.basicConfig(level=logging.INFO, format=FORMAT)"
   ]
  },
  {
   "cell_type": "code",
   "execution_count": 18,
   "metadata": {
    "pycharm": {
     "name": "#%%\n"
    }
   },
   "outputs": [],
   "source": [
    "# get env var\n",
    "# BASE_URL = os.environ.get('DAS_INSTANCE')\n",
    "# USER = os.environ.get('DAS_USER')\n",
    "# PASSWORD = os.environ.get('DAS_PASSWORD')\n",
    "# EXECUTOR = os.environ.get('REMOTE_EXECUTOR')\n",
    "\n",
    "BASE_URL = \"https://cpd-cpd-instance.apps.cpd48anna.cp.fyre.ibm.com\"\n",
    "USER = \"admin\"\n",
    "PASSWORD = \"password\"\n",
    "EXECUTOR = \"http://127.0.0.1:4444/wd/hub\""
   ]
  },
  {
   "cell_type": "code",
   "execution_count": 19,
   "metadata": {
    "pycharm": {
     "name": "#%%\n"
    }
   },
   "outputs": [],
   "source": [
    "now = datetime.datetime.now(pytz.timezone('Asia/Taipei'))\n",
    "project_name = now.strftime('notebook-by-selenium-at-%Y%m%d-%H%M%S')\n",
    "\n",
    "start = time.time()"
   ]
  },
  {
   "cell_type": "code",
   "execution_count": 20,
   "metadata": {
    "tags": []
   },
   "outputs": [
    {
     "name": "stdout",
     "output_type": "stream",
     "text": [
      "here:  <selenium.webdriver.chrome.options.Options object at 0x104bc1280>\n"
     ]
    },
    {
     "name": "stderr",
     "output_type": "stream",
     "text": [
      "2024-01-25 12:43:42,255 INFO: login：55.082498 秒\n"
     ]
    }
   ],
   "source": [
    "try:\n",
    "    instance = instance.Instance(EXECUTOR,wait_timeout=120)\n",
    "    instance.login(BASE_URL, USER, PASSWORD)\n",
    "    aa = time.time()\n",
    "    logging.info(\"login：%f 秒\" % (aa - start))\n",
    "    proj = instance.project(project_name)\n",
    "    proj.create()\n",
    "    bb = time.time()\n",
    "    logging.info(\"create project：%f 秒\" % (bb - aa))\n",
    "    proj.open(\"overview\")\n",
    "    proj.list()\n",
    "    cc = time.time()\n",
    "    logging.info(\"navigate to overview：%f 秒\" % (cc - bb))\n",
    "    proj.open(\"assets\")\n",
    "    proj.list()\n",
    "    dd = time.time()\n",
    "    logging.info(\"navigate to asset：%f 秒\" % (dd - cc))\n",
    "    proj.open(\"environments\")\n",
    "    proj.list()\n",
    "    ee = time.time()    \n",
    "    logging.info(\"navigate to env：%f 秒\" % (ee - dd))\n",
    "    proj.delete()\n",
    "    ff = time.time()    \n",
    "    logging.info(\"delete project：%f 秒\" % (ff - ee))\n",
    "    instance.logout()\n",
    "    instance.close()\n",
    "except Exception as e:\n",
    "    util.print_image_base64_encoding(instance.driver, \"/tmp/%s.png\" % project_name)\n",
    "    raise    "
   ]
  },
  {
   "cell_type": "code",
   "execution_count": null,
   "metadata": {
    "collapsed": false,
    "pycharm": {
     "name": "#%%\n"
    }
   },
   "outputs": [],
   "source": []
  },
  {
   "cell_type": "code",
   "execution_count": null,
   "metadata": {
    "pycharm": {
     "name": "#%%\n"
    }
   },
   "outputs": [],
   "source": [
    "end = time.time()\n",
    "logging.info(\"執行時間：%f 秒\" % (end - start))\n"
   ]
  },
  {
   "cell_type": "code",
   "execution_count": null,
   "metadata": {},
   "outputs": [],
   "source": []
  }
 ],
 "metadata": {
  "interpreter": {
   "hash": "d1e07294c00812fe9d9cd68bcde7e7e115eaf8fdaea669a73593791dd2a8f09d"
  },
  "kernelspec": {
   "display_name": "Python 3.9.0 64-bit ('selenium-venv': venv)",
   "name": "python3"
  },
  "language_info": {
   "codemirror_mode": {
    "name": "ipython",
    "version": 3
   },
   "file_extension": ".py",
   "mimetype": "text/x-python",
   "name": "python",
   "nbconvert_exporter": "python",
   "pygments_lexer": "ipython3",
   "version": "3.9.6"
  }
 },
 "nbformat": 4,
 "nbformat_minor": 1
}
