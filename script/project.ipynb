{
 "cells": [
  {
   "cell_type": "code",
   "execution_count": null,
   "source": [
    "!pip install selenium"
   ],
   "outputs": [],
   "metadata": {}
  },
  {
   "cell_type": "code",
   "execution_count": null,
   "source": [],
   "outputs": [],
   "metadata": {}
  },
  {
   "cell_type": "code",
   "execution_count": null,
   "source": [
    "from DasUITesting import instance, util\n",
    "import time\n",
    "import os\n",
    "import datetime\n",
    "import pytz\n",
    "import logging\n",
    "\n",
    "\n",
    "FORMAT = '%(asctime)s %(levelname)s: %(message)s'\n",
    "logging.basicConfig(level=logging.INFO, format=FORMAT)"
   ],
   "outputs": [],
   "metadata": {
    "pycharm": {
     "name": "#%%\n"
    }
   }
  },
  {
   "cell_type": "code",
   "execution_count": null,
   "source": [
    "# get env var\n",
    "BASE_URL = os.environ.get('DAS_INSTANCE')\n",
    "USER = os.environ.get('DAS_USER')\n",
    "PASSWORD = os.environ.get('DAS_PASSWORD')\n",
    "EXECUTOR = os.environ.get('REMOTE_EXECUTOR')\n",
    "\n",
    "# BASE_URL = \"https://lab.das.twcc.ai\"\n",
    "# USER = \"das\"\n",
    "# PASSWORD = \"NchcDAS@2020\"\n",
    "# EXECUTOR = \"http://140.110.136.74:30052/wd/hub\""
   ],
   "outputs": [],
   "metadata": {
    "pycharm": {
     "name": "#%%\n"
    }
   }
  },
  {
   "cell_type": "code",
   "execution_count": null,
   "source": [
    "now = datetime.datetime.now(pytz.timezone('Asia/Taipei'))\n",
    "project_name = now.strftime('notebook-by-selenium-at-%Y%m%d-%H%M%S')\n",
    "\n",
    "start = time.time()"
   ],
   "outputs": [],
   "metadata": {
    "pycharm": {
     "name": "#%%\n"
    }
   }
  },
  {
   "cell_type": "code",
   "execution_count": null,
   "source": [
    "try:\n",
    "    instance = instance.Instance(EXECUTOR,wait_timeout=120)\n",
    "    instance.login(BASE_URL, USER, PASSWORD)\n",
    "    aa = time.time()\n",
    "    logging.info(\"login：%f 秒\" % (aa - start))\n",
    "    proj = instance.project(project_name)\n",
    "    proj.create()\n",
    "    bb = time.time()\n",
    "    logging.info(\"create project：%f 秒\" % (bb - aa))\n",
    "    proj.open(\"overview\")\n",
    "    proj.list()\n",
    "    cc = time.time()\n",
    "    logging.info(\"navigate to overview：%f 秒\" % (cc - bb))\n",
    "    proj.open(\"assets\")\n",
    "    proj.list()\n",
    "    dd = time.time()\n",
    "    logging.info(\"navigate to asset：%f 秒\" % (dd - cc))\n",
    "    proj.open(\"environments\")\n",
    "    proj.list()\n",
    "    ee = time.time()    \n",
    "    logging.info(\"navigate to env：%f 秒\" % (ee - dd))\n",
    "    proj.delete()\n",
    "    ff = time.time()    \n",
    "    logging.info(\"delete project：%f 秒\" % (ff - ee))\n",
    "    instance.logout()\n",
    "    instance.close()\n",
    "except Exception as e:\n",
    "    util.print_image_base64_encoding(instance.driver, \"/tmp/%s.png\" % project_name)\n",
    "    raise    "
   ],
   "outputs": [],
   "metadata": {
    "tags": []
   }
  },
  {
   "cell_type": "code",
   "execution_count": null,
   "source": [],
   "outputs": [],
   "metadata": {
    "collapsed": false,
    "pycharm": {
     "name": "#%%\n"
    }
   }
  },
  {
   "cell_type": "code",
   "execution_count": null,
   "source": [
    "end = time.time()\n",
    "logging.info(\"執行時間：%f 秒\" % (end - start))\n"
   ],
   "outputs": [],
   "metadata": {
    "pycharm": {
     "name": "#%%\n"
    }
   }
  },
  {
   "cell_type": "code",
   "execution_count": null,
   "source": [],
   "outputs": [],
   "metadata": {}
  }
 ],
 "metadata": {
  "kernelspec": {
   "name": "python3",
   "display_name": "Python 3.9.0 64-bit ('selenium-venv': venv)"
  },
  "language_info": {
   "codemirror_mode": {
    "name": "ipython",
    "version": 3
   },
   "file_extension": ".py",
   "mimetype": "text/x-python",
   "name": "python",
   "nbconvert_exporter": "python",
   "pygments_lexer": "ipython3",
   "version": "3.9.0"
  },
  "interpreter": {
   "hash": "d1e07294c00812fe9d9cd68bcde7e7e115eaf8fdaea669a73593791dd2a8f09d"
  }
 },
 "nbformat": 4,
 "nbformat_minor": 1
}