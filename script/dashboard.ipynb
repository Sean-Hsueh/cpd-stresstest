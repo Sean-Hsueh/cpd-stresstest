{
 "metadata": {
  "language_info": {
   "codemirror_mode": {
    "name": "ipython",
    "version": 3
   },
   "file_extension": ".py",
   "mimetype": "text/x-python",
   "name": "python",
   "nbconvert_exporter": "python",
   "pygments_lexer": "ipython3",
   "version": "3.9.0"
  },
  "orig_nbformat": 2,
  "kernelspec": {
   "name": "python3",
   "display_name": "Python 3.9.0 64-bit ('selenium-venv': venv)"
  },
  "interpreter": {
   "hash": "d1e07294c00812fe9d9cd68bcde7e7e115eaf8fdaea669a73593791dd2a8f09d"
  }
 },
 "nbformat": 4,
 "nbformat_minor": 2,
 "cells": [
  {
   "cell_type": "code",
   "execution_count": 1,
   "source": [
    "!pip install selenium"
   ],
   "outputs": [
    {
     "output_type": "stream",
     "name": "stdout",
     "text": [
      "Requirement already satisfied: selenium in /Users/ogre0403/.python-venv/selenium-venv/lib/python3.9/site-packages (3.141.0)\n",
      "Requirement already satisfied: urllib3 in /Users/ogre0403/.python-venv/selenium-venv/lib/python3.9/site-packages (from selenium) (1.26.5)\n",
      "\u001b[33mWARNING: You are using pip version 20.2.3; however, version 21.2.4 is available.\n",
      "You should consider upgrading via the '/Users/ogre0403/.python-venv/selenium-venv/bin/python3 -m pip install --upgrade pip' command.\u001b[0m\n"
     ]
    }
   ],
   "metadata": {}
  },
  {
   "cell_type": "code",
   "execution_count": 2,
   "source": [
    "from DasUITesting import instance, util\n",
    "import time\n",
    "import os\n",
    "import datetime\n",
    "import pytz\n",
    "import logging\n",
    "\n",
    "FORMAT = '%(asctime)s %(levelname)s: %(message)s'\n",
    "logging.basicConfig(level=logging.INFO, format=FORMAT)"
   ],
   "outputs": [],
   "metadata": {}
  },
  {
   "cell_type": "code",
   "execution_count": 3,
   "source": [
    "BASE_URL   = os.environ.get('DAS_INSTANCE')    if os.environ.get('DAS_INSTANCE')    is not None else \"https://lab.das.twcc.ai\"\n",
    "USER       = os.environ.get('DAS_USER')        if os.environ.get('DAS_USER')        is not None else \"das\"\n",
    "PASSWORD   = os.environ.get('DAS_PASSWORD')    if os.environ.get('DAS_PASSWORD')    is not None else \"NchcDAS@2020\"\n",
    "EXECUTOR   = os.environ.get('REMOTE_EXECUTOR') if os.environ.get('REMOTE_EXECUTOR') is not None else \"http://140.110.136.74:30052/wd/hub\"\n",
    "MEAN_THINK = os.environ.get('MEAN_THINK')      if os.environ.get('MEAN_THINK')      is not None else \"\"\n",
    "DURATION   = os.environ.get('DURATION')        if os.environ.get('DURATION')        is not None else \"1\"\n",
    "\n",
    "# get env var\n",
    "# BASE_URL = os.environ.get('DAS_INSTANCE')\n",
    "# USER = os.environ.get('DAS_USER')\n",
    "# PASSWORD = os.environ.get('DAS_PASSWORD')\n",
    "# EXECUTOR = os.environ.get('REMOTE_EXECUTOR')\n",
    "#\n",
    "# BASE_URL = \"https://lab.das.twcc.ai\"\n",
    "# USER = \"das\"\n",
    "# PASSWORD = \"NchcDAS@2020\"\n",
    "# EXECUTOR = \"http://140.110.136.74:30052/wd/hub\""
   ],
   "outputs": [],
   "metadata": {}
  },
  {
   "cell_type": "code",
   "execution_count": 4,
   "source": [
    "now = datetime.datetime.now(pytz.timezone('Asia/Taipei'))\n",
    "project_name = now.strftime('dashboard-by-selenium-at-%Y%m%d-%H%M%S')\n",
    "\n",
    "start = time.time()"
   ],
   "outputs": [],
   "metadata": {}
  },
  {
   "cell_type": "code",
   "execution_count": 5,
   "source": [
    "try:\n",
    "    instance = instance.Instance(EXECUTOR)\n",
    "    instance.login(BASE_URL, USER, PASSWORD)\n",
    "    proj = instance.project(project_name)\n",
    "    proj.create()\n",
    "    proj.data(\"/tmp/sample/area_trend_data/area_trend_v2_utf8.csv\").upload()\n",
    "    filename = \"area_trend_v2_utf8.csv\"\n",
    "    field1 = \"Date\"\n",
    "    field2 = \"PM\"\n",
    "    proj.dashboard(filename, field1, field2).create()\n",
    "    proj.delete()\n",
    "    instance.logout()\n",
    "    instance.close()\n",
    "except Exception as e:\n",
    "    util.print_image_base64_encoding(instance.driver, \"/tmp/%s.png\" % project_name)\n",
    "    raise"
   ],
   "outputs": [
    {
     "output_type": "stream",
     "name": "stderr",
     "text": [
      "2021-08-17 15:02:47,489 INFO: dashboard-by-selenium-at-20210817-150235\n",
      "2021-08-17 15:03:04,922 INFO: wait 2 sec. for iframe available. \n",
      "2021-08-17 15:03:07,103 INFO: wait 4 sec. for iframe available. \n",
      "2021-08-17 15:03:17,479 INFO: target tab     id : __tabs_1-model0000017b52ebd3e9_00000002_tabpanel_panel\n",
      "2021-08-17 15:03:17,480 INFO: target element id : model0000017b52ebd3e9_00000002\n",
      "2021-08-17 15:03:21,285 INFO: wait 2 sec. for project delete complete. \n"
     ]
    }
   ],
   "metadata": {}
  },
  {
   "cell_type": "code",
   "execution_count": null,
   "source": [],
   "outputs": [],
   "metadata": {}
  },
  {
   "cell_type": "code",
   "execution_count": 6,
   "source": [
    "end = time.time()\n",
    "logging.info(\"執行時間：%f 秒\" % (end - start))"
   ],
   "outputs": [
    {
     "output_type": "stream",
     "name": "stderr",
     "text": [
      "2021-08-17 15:03:25,450 INFO: 執行時間：49.882125 秒\n"
     ]
    }
   ],
   "metadata": {}
  },
  {
   "cell_type": "code",
   "execution_count": null,
   "source": [],
   "outputs": [],
   "metadata": {}
  },
  {
   "cell_type": "code",
   "execution_count": null,
   "source": [],
   "outputs": [],
   "metadata": {}
  }
 ]
}