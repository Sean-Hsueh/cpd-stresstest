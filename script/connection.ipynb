{
 "cells": [
  {
   "cell_type": "code",
   "execution_count": null,
   "metadata": {},
   "outputs": [],
   "source": [
    "!pip install selenium"
   ]
  },
  {
   "cell_type": "code",
   "execution_count": null,
   "metadata": {},
   "outputs": [],
   "source": [
    "from DasUITesting import instance, util\n",
    "import time\n",
    "import os\n",
    "import datetime\n",
    "import pytz\n",
    "import logging\n",
    "\n",
    "FORMAT = '%(asctime)s %(levelname)s: %(message)s'\n",
    "logging.basicConfig(level=logging.INFO, format=FORMAT)"
   ]
  },
  {
   "cell_type": "code",
   "execution_count": null,
   "metadata": {},
   "outputs": [],
   "source": [
    "# get env var\n",
    "BASE_URL = os.environ.get('DAS_INSTANCE')\n",
    "USER = os.environ.get('DAS_USER')\n",
    "PASSWORD = os.environ.get('DAS_PASSWORD')\n",
    "EXECUTOR = os.environ.get('REMOTE_EXECUTOR')\n",
    "#\n",
    "# BASE_URL = \"https://lab.das.twcc.ai\"\n",
    "# USER = \"das\"\n",
    "# PASSWORD = \"NchcDAS@2020\"\n",
    "# EXECUTOR = \"http://140.110.136.74:30052/wd/hub\""
   ]
  },
  {
   "cell_type": "code",
   "execution_count": null,
   "metadata": {},
   "outputs": [],
   "source": [
    "now = datetime.datetime.now(pytz.timezone('Asia/Taipei'))\n",
    "name_suffix = now.strftime('by-selenium-at-%Y%m%d-%H%M%S')\n",
    "project_name = \"connection-%s\" % name_suffix\n",
    "\n",
    "\n",
    "start = time.time()"
   ]
  },
  {
   "cell_type": "code",
   "execution_count": null,
   "metadata": {},
   "outputs": [],
   "source": [
    "try:\n",
    "    instance = instance.Instance(EXECUTOR)\n",
    "    instance.login(BASE_URL, USER, PASSWORD)\n",
    "    proj = instance.project(project_name)\n",
    "    proj.create()\n",
    "    conn = proj.connection(project_name)\n",
    "    metadata={\n",
    "        'database':'dasdata',\n",
    "        'host':'103.124.72.160',\n",
    "        'port':'3306',\n",
    "        'username':'das140read',\n",
    "        'password':'Nchc@2020'\n",
    "    }\n",
    "    conn.create(\"MySQL\", metadata)\n",
    "    proj.delete()\n",
    "    instance.logout()\n",
    "    instance.close()\n",
    "except Exception as e:\n",
    "    util.print_image_base64_encoding(instance.driver, \"/tmp/%s.png\" % project_name)\n",
    "    raise"
   ]
  },
  {
   "cell_type": "code",
   "execution_count": null,
   "metadata": {},
   "outputs": [],
   "source": []
  },
  {
   "cell_type": "code",
   "execution_count": null,
   "metadata": {},
   "outputs": [],
   "source": [
    "\n",
    "end = time.time()\n",
    "logging.info(\"執行時間：%f 秒\" % (end - start))"
   ]
  },
  {
   "cell_type": "code",
   "execution_count": null,
   "metadata": {},
   "outputs": [],
   "source": []
  }
 ],
 "metadata": {
  "interpreter": {
   "hash": "d1e07294c00812fe9d9cd68bcde7e7e115eaf8fdaea669a73593791dd2a8f09d"
  },
  "kernelspec": {
   "display_name": "Python 3.9.2 64-bit ('selenium-venv': venv)",
   "name": "python3"
  },
  "language_info": {
   "codemirror_mode": {
    "name": "ipython",
    "version": 3
   },
   "file_extension": ".py",
   "mimetype": "text/x-python",
   "name": "python",
   "nbconvert_exporter": "python",
   "pygments_lexer": "ipython3",
   "version": "3.9.2"
  },
  "orig_nbformat": 4
 },
 "nbformat": 4,
 "nbformat_minor": 2
}