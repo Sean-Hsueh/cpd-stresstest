{
 "cells": [
  {
   "cell_type": "code",
   "execution_count": null,
   "source": [
    "# !pip install selenium"
   ],
   "outputs": [],
   "metadata": {}
  },
  {
   "cell_type": "code",
   "execution_count": null,
   "source": [],
   "outputs": [],
   "metadata": {}
  },
  {
   "cell_type": "code",
   "execution_count": null,
   "source": [
    "from DasUITesting import instance\n",
    "import time\n",
    "import os\n",
    "import logging\n",
    "import random\n",
    "import uuid\n",
    "\n",
    "\n",
    "FORMAT = '%(asctime)s %(levelname)s: %(message)s'\n",
    "logging.basicConfig(level=logging.INFO, format=FORMAT)"
   ],
   "outputs": [],
   "metadata": {
    "pycharm": {
     "name": "#%%\n"
    }
   }
  },
  {
   "cell_type": "code",
   "execution_count": null,
   "source": [
    "# get env var\n",
    "BASE_URL = os.environ.get('DAS_INSTANCE')\n",
    "USER = os.environ.get('DAS_USER')\n",
    "PASSWORD = os.environ.get('DAS_PASSWORD')\n",
    "EXECUTOR = os.environ.get('REMOTE_EXECUTOR')\n",
    "MEAN_THINK = os.environ.get('MEAN_THINK')\n",
    "\n",
    "# BASE_URL = \"https://das.edu-cloud.nchc.org.tw/\"\n",
    "# USER = \"usera\"\n",
    "# PASSWORD = \"keip3Rea\"\n",
    "# EXECUTOR = \"http://140.110.136.74:30052/wd/hub\"\n",
    "# MEAN_THINK = \"10\"\n"
   ],
   "outputs": [],
   "metadata": {
    "pycharm": {
     "name": "#%%\n"
    }
   }
  },
  {
   "cell_type": "code",
   "execution_count": null,
   "source": [
    "#now = datetime.datetime.now(pytz.timezone('Asia/Taipei'))\n",
    "# project_name = now.strftime('notebook-by-selenium-at-%Y%m%d-%H%M%S')\n",
    "prj_id = uuid.uuid4()\n",
    "project_name = \"selenium-jimmy\"\n",
    "\n"
   ],
   "outputs": [],
   "metadata": {
    "pycharm": {
     "name": "#%%\n"
    }
   }
  },
  {
   "cell_type": "code",
   "execution_count": null,
   "source": [
    "for i in range(1, 10):\n",
    "    s = pow(2, i)\n",
    "    logging.info(\"wait %d sec. for EXECUTOR to ready. \" % s)\n",
    "    time.sleep(s)\n",
    "    try:\n",
    "        instance = instance.Instance(EXECUTOR,wait_timeout=120)\n",
    "        break\n",
    "    except Exception as e:\n",
    "        logging.info(\"connect to DRIVER fail\")\n"
   ],
   "outputs": [],
   "metadata": {
    "tags": []
   }
  },
  {
   "cell_type": "code",
   "execution_count": null,
   "source": [
    "\n",
    "login_start = time.time()\n",
    "instance.login(BASE_URL, USER, PASSWORD)\n",
    "login_end = time.time()\n",
    "login_time = login_end - login_start\n",
    "logging.info(\"login：%f 秒\" % login_time)\n"
   ],
   "outputs": [],
   "metadata": {}
  },
  {
   "cell_type": "code",
   "execution_count": null,
   "source": [
    "\n",
    "proj = instance.project(project_name)\n",
    "\n",
    "# think\n",
    "if MEAN_THINK != \"\":\n",
    "    mean = float(MEAN_THINK)\n",
    "    bbs = random.expovariate(1/mean)\n",
    "    time.sleep(bbs)\n",
    "\n",
    "all_start = time.time()\n",
    "proj.list()\n",
    "all_end = time.time()\n",
    "all_time = all_end - all_start\n",
    "logging.info(\"list all project：%f 秒\" % all_time)\n"
   ],
   "outputs": [],
   "metadata": {}
  },
  {
   "cell_type": "code",
   "execution_count": null,
   "source": [
    "\n",
    "\n",
    "# think\n",
    "if MEAN_THINK != \"\":\n",
    "    mean = float(MEAN_THINK)\n",
    "    bbs = random.expovariate(1/mean)\n",
    "    time.sleep(bbs)\n",
    "\n",
    "overview_start = time.time()\n",
    "proj.open(\"overview\")\n",
    "overview_end = time.time()\n",
    "overview_time = overview_end - overview_start\n",
    "logging.info(\"navigate to overview：%f 秒\" % overview_time)\n"
   ],
   "outputs": [],
   "metadata": {}
  },
  {
   "cell_type": "code",
   "execution_count": null,
   "source": [
    "\n",
    "# think\n",
    "if MEAN_THINK != \"\":\n",
    "    mean = float(MEAN_THINK)\n",
    "    bbs = random.expovariate(1/mean)\n",
    "    time.sleep(bbs)\n",
    "\n",
    "assets_start = time.time()\n",
    "proj.navigate(\"assets\")\n",
    "assets_end = time.time()\n",
    "assets_time = assets_end - assets_start\n",
    "logging.info(\"navigate to asset：%f 秒\" % assets_time)\n"
   ],
   "outputs": [],
   "metadata": {}
  },
  {
   "cell_type": "code",
   "execution_count": null,
   "source": [
    "\n",
    "# think\n",
    "if MEAN_THINK != \"\":\n",
    "    mean = float(MEAN_THINK)\n",
    "    bbs = random.expovariate(1/mean)\n",
    "    time.sleep(bbs)\n",
    "\n",
    "environments_start = time.time()\n",
    "proj.navigate(\"environments\")\n",
    "environments_end = time.time()    \n",
    "environments_time = environments_end - environments_start\n",
    "logging.info(\"navigate to env：%f 秒\" % environments_time)\n",
    "\n"
   ],
   "outputs": [],
   "metadata": {}
  },
  {
   "cell_type": "code",
   "execution_count": null,
   "source": [
    "\n",
    "# think\n",
    "if MEAN_THINK != \"\":\n",
    "    mean = float(MEAN_THINK)\n",
    "    bbs = random.expovariate(1/mean)\n",
    "    time.sleep(bbs)\n",
    "\n",
    "job_start = time.time()\n",
    "proj.navigate(\"jobs\")\n",
    "job_end = time.time()    \n",
    "job_time = job_end - job_start\n",
    "logging.info(\"navigate to job：%f 秒\" % job_time)\n",
    "\n"
   ],
   "outputs": [],
   "metadata": {}
  },
  {
   "cell_type": "code",
   "execution_count": null,
   "source": [
    "\n",
    "#think\n",
    "if MEAN_THINK != \"\":\n",
    "    mean = float(MEAN_THINK)\n",
    "    bbs = random.expovariate(1/mean)\n",
    "    time.sleep(bbs)\n",
    "        \n",
    "overview2_start = time.time()\n",
    "proj.navigate(\"overview\")\n",
    "overview2_end = time.time()    \n",
    "overview2_time = overview2_end - overview2_start\n",
    "logging.info(\"navigate to overview：%f 秒\" % overview2_time)\n"
   ],
   "outputs": [],
   "metadata": {}
  },
  {
   "cell_type": "code",
   "execution_count": null,
   "source": [
    "\n",
    "instance.logout()\n",
    "instance.close()\n",
    "logging.info(\"\\n  login,  list all, overview,  assets,  environments,   job  , overview \\n%f, %f, %f,  %f,  %f,  %f,  %f\" % (login_time,all_time, overview_time, assets_time, environments_time,job_time,overview2_time))"
   ],
   "outputs": [],
   "metadata": {}
  },
  {
   "cell_type": "code",
   "execution_count": null,
   "source": [],
   "outputs": [],
   "metadata": {}
  }
 ],
 "metadata": {
  "kernelspec": {
   "name": "python3",
   "display_name": "Python 3.9.0 64-bit"
  },
  "language_info": {
   "codemirror_mode": {
    "name": "ipython",
    "version": 3
   },
   "file_extension": ".py",
   "mimetype": "text/x-python",
   "name": "python",
   "nbconvert_exporter": "python",
   "pygments_lexer": "ipython3",
   "version": "3.9.0"
  },
  "interpreter": {
   "hash": "aee8b7b246df8f9039afb4144a1f6fd8d2ca17a180786b69acc140d282b71a49"
  }
 },
 "nbformat": 4,
 "nbformat_minor": 1
}