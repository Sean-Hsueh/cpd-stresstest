{
 "cells": [
  {
   "cell_type": "code",
   "execution_count": null,
   "source": [
    "!pip install selenium"
   ],
   "outputs": [],
   "metadata": {}
  },
  {
   "cell_type": "code",
   "execution_count": null,
   "source": [],
   "outputs": [],
   "metadata": {}
  },
  {
   "cell_type": "code",
   "execution_count": null,
   "source": [
    "from DasUITesting import instance\n",
    "import time\n",
    "import os\n",
    "import logging\n",
    "import random\n",
    "\n",
    "\n",
    "\n",
    "FORMAT = '%(asctime)s %(levelname)s: %(message)s'\n",
    "logging.basicConfig(level=logging.WARN, format=FORMAT)"
   ],
   "outputs": [],
   "metadata": {
    "pycharm": {
     "name": "#%%\n"
    }
   }
  },
  {
   "cell_type": "code",
   "execution_count": null,
   "source": [
    "# get env var\n",
    "BASE_URL   = os.environ.get('DAS_INSTANCE')    if os.environ.get('DAS_INSTANCE')    is not None else \"https://das.edu-cloud.nchc.org.tw/\"\n",
    "USER       = os.environ.get('DAS_USER')        if os.environ.get('DAS_USER')        is not None else \"usera\"\n",
    "PASSWORD   = os.environ.get('DAS_PASSWORD')    if os.environ.get('DAS_PASSWORD')    is not None else \"keip3Rea\"\n",
    "EXECUTOR   = os.environ.get('REMOTE_EXECUTOR') if os.environ.get('REMOTE_EXECUTOR') is not None else \"http://140.110.136.74:30052/wd/hub\"\n",
    "MEAN_THINK = os.environ.get('MEAN_THINK')      if os.environ.get('MEAN_THINK')      is not None else \"\"\n",
    "DURATION   = os.environ.get('DURATION')        if os.environ.get('DURATION')        is not None else \"1\""
   ],
   "outputs": [],
   "metadata": {
    "pycharm": {
     "name": "#%%\n"
    }
   }
  },
  {
   "cell_type": "code",
   "execution_count": null,
   "source": [
    "project_name = \"selenium-jimmy\""
   ],
   "outputs": [],
   "metadata": {
    "pycharm": {
     "name": "#%%\n"
    }
   }
  },
  {
   "cell_type": "code",
   "execution_count": null,
   "source": [
    "def all(proj):\n",
    "    # think\n",
    "    if MEAN_THINK != \"\":\n",
    "        mean = float(MEAN_THINK)\n",
    "        bbs = random.expovariate(1/mean)\n",
    "        time.sleep(bbs)\n",
    "\n",
    "    all_start = time.time()\n",
    "    proj.list()\n",
    "    all_end = time.time()\n",
    "    all_time = all_end - all_start\n",
    "    return all_time\n"
   ],
   "outputs": [],
   "metadata": {}
  },
  {
   "cell_type": "code",
   "execution_count": null,
   "source": [
    "def overview(proj):\n",
    "    if MEAN_THINK != \"\":\n",
    "        mean = float(MEAN_THINK)\n",
    "        bbs = random.expovariate(1/mean)\n",
    "        time.sleep(bbs)\n",
    "\n",
    "    overview_start = time.time()\n",
    "    proj.open(\"overview\")\n",
    "    overview_end = time.time()\n",
    "    overview_time = overview_end - overview_start\n",
    "    return overview_time"
   ],
   "outputs": [],
   "metadata": {}
  },
  {
   "cell_type": "code",
   "execution_count": null,
   "source": [
    "def asset(proj):\n",
    "    # think\n",
    "    if MEAN_THINK != \"\":\n",
    "        mean = float(MEAN_THINK)\n",
    "        bbs = random.expovariate(1/mean)\n",
    "        time.sleep(bbs)\n",
    "\n",
    "    assets_start = time.time()\n",
    "    proj.navigate(\"assets\")\n",
    "    assets_end = time.time()\n",
    "    assets_time = assets_end - assets_start\n",
    "    return assets_time"
   ],
   "outputs": [],
   "metadata": {}
  },
  {
   "cell_type": "code",
   "execution_count": null,
   "source": [
    "def environment(proj):\n",
    "    if MEAN_THINK != \"\":\n",
    "        mean = float(MEAN_THINK)\n",
    "        bbs = random.expovariate(1/mean)\n",
    "        time.sleep(bbs)\n",
    "\n",
    "    environments_start = time.time()\n",
    "    proj.navigate(\"environments\")\n",
    "    environments_end = time.time()    \n",
    "    environments_time = environments_end - environments_start\n",
    "    return environments_time"
   ],
   "outputs": [],
   "metadata": {}
  },
  {
   "cell_type": "code",
   "execution_count": null,
   "source": [
    "def job(proj):\n",
    "    if MEAN_THINK != \"\":\n",
    "        mean = float(MEAN_THINK)\n",
    "        bbs = random.expovariate(1/mean)\n",
    "        time.sleep(bbs)\n",
    "\n",
    "    job_start = time.time()\n",
    "    proj.navigate(\"jobs\")\n",
    "    job_end = time.time()    \n",
    "    job_time = job_end - job_start    \n",
    "    return job_time"
   ],
   "outputs": [],
   "metadata": {}
  },
  {
   "cell_type": "code",
   "execution_count": null,
   "source": [
    "def overview2(proj):\n",
    "    if MEAN_THINK != \"\":\n",
    "        mean = float(MEAN_THINK)\n",
    "        bbs = random.expovariate(1/mean)\n",
    "        time.sleep(bbs)\n",
    "            \n",
    "    overview2_start = time.time()\n",
    "    proj.navigate(\"overview\")\n",
    "    overview2_end = time.time()    \n",
    "    overview2_time = overview2_end - overview2_start    \n",
    "    return overview2_time"
   ],
   "outputs": [],
   "metadata": {}
  },
  {
   "cell_type": "code",
   "execution_count": null,
   "source": [
    "for i in range(1, 10):\n",
    "    s = pow(2, i)\n",
    "    logging.info(\"wait %d sec. for EXECUTOR to ready. \" % s)\n",
    "    time.sleep(s)\n",
    "    try:\n",
    "        instance = instance.Instance(EXECUTOR,wait_timeout=120)\n",
    "        break\n",
    "    except Exception as e:\n",
    "        logging.info(\"connect to DRIVER fail\")\n"
   ],
   "outputs": [],
   "metadata": {
    "tags": []
   }
  },
  {
   "cell_type": "code",
   "execution_count": null,
   "source": [
    "bbs = random.expovariate(0.2)\n",
    "time.sleep(bbs)\n",
    "\n",
    "login_start = time.time()\n",
    "instance.login(BASE_URL, USER, PASSWORD)\n",
    "login_end = time.time()\n",
    "login_time = login_end - login_start\n",
    "\n",
    "\n",
    "proj = instance.project(project_name)"
   ],
   "outputs": [],
   "metadata": {}
  },
  {
   "cell_type": "code",
   "execution_count": null,
   "source": [
    "timeout = time.time() + 60* int(DURATION)   # 1 minutes from now\n",
    "\n",
    "\n",
    "while True:\n",
    "    if time.time() > timeout:\n",
    "        break\n",
    "\n",
    "    all_time = all(proj)\n",
    "    overview_time = overview(proj)\n",
    "    assets_time = asset(proj)\n",
    "    environments_time = environment(proj)\n",
    "    job_time = job(proj)\n",
    "    overview2_time = overview2(proj)\n",
    "\n",
    "    print(\">, %f, %f, %f,  %f,  %f,  %f,  %f\" % (login_time,all_time, overview_time, assets_time, environments_time,job_time,overview2_time),flush=True)\n",
    "\n"
   ],
   "outputs": [],
   "metadata": {}
  },
  {
   "cell_type": "code",
   "execution_count": null,
   "source": [
    "instance.logout()\n",
    "instance.close()"
   ],
   "outputs": [],
   "metadata": {}
  },
  {
   "cell_type": "code",
   "execution_count": null,
   "source": [],
   "outputs": [],
   "metadata": {}
  }
 ],
 "metadata": {
  "kernelspec": {
   "name": "python3",
   "display_name": "Python 3.9.0 64-bit ('selenium-venv': venv)"
  },
  "language_info": {
   "codemirror_mode": {
    "name": "ipython",
    "version": 3
   },
   "file_extension": ".py",
   "mimetype": "text/x-python",
   "name": "python",
   "nbconvert_exporter": "python",
   "pygments_lexer": "ipython3",
   "version": "3.9.0"
  },
  "interpreter": {
   "hash": "d1e07294c00812fe9d9cd68bcde7e7e115eaf8fdaea669a73593791dd2a8f09d"
  }
 },
 "nbformat": 4,
 "nbformat_minor": 1
}