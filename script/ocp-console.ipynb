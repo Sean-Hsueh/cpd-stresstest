{
 "cells": [
  {
   "cell_type": "code",
   "execution_count": null,
   "source": [
    "from selenium import webdriver\n",
    "from selenium.webdriver.common.desired_capabilities import DesiredCapabilities\n",
    "from selenium.webdriver.common.by import By\n",
    "from selenium.webdriver.support.ui import WebDriverWait\n",
    "from selenium.webdriver.support import expected_conditions as EC\n",
    "\n",
    "\n",
    "import time\n",
    "import random\n",
    "import logging\n",
    "import os\n",
    "\n",
    "\n",
    "FORMAT = '%(asctime)s %(levelname)s: %(message)s'\n",
    "logging.basicConfig(level=logging.INFO, format=FORMAT)"
   ],
   "outputs": [],
   "metadata": {}
  },
  {
   "cell_type": "code",
   "execution_count": null,
   "source": [
    "# get env var\n",
    "BASE_URL = os.environ.get('DAS_INSTANCE')\n",
    "USER = os.environ.get('DAS_USER')\n",
    "PASSWORD = os.environ.get('DAS_PASSWORD')\n",
    "EXECUTOR = os.environ.get('REMOTE_EXECUTOR')\n",
    "\n",
    "\n",
    "# EXECUTOR = \"http://140.110.136.74:30052/wd/hub\"\n",
    "# BASE_URL = \"\"\n",
    "# USER=\"\"\n",
    "# PASSWORD=\"\""
   ],
   "outputs": [],
   "metadata": {}
  },
  {
   "cell_type": "code",
   "execution_count": null,
   "source": [
    "options = webdriver.ChromeOptions()\n",
    "options.add_argument(\"--start-maximized\")\n",
    "\n",
    "\n",
    "# connect to remote driver\n",
    "driver = webdriver.Remote(\n",
    "    command_executor=EXECUTOR,\n",
    "    desired_capabilities=DesiredCapabilities.CHROME,\n",
    "    options=options,\n",
    ")\n",
    "\n",
    "wait = WebDriverWait(driver, 60)"
   ],
   "outputs": [],
   "metadata": {}
  },
  {
   "cell_type": "code",
   "execution_count": null,
   "source": [
    "\n",
    "driver.get(BASE_URL)"
   ],
   "outputs": [],
   "metadata": {}
  },
  {
   "cell_type": "code",
   "execution_count": null,
   "source": [
    "wait.until(\n",
    "    EC.visibility_of_element_located(\n",
    "        (By.XPATH, '//a[text()=\"htpasswd_provider\"]')\n",
    "    )\n",
    ").click()"
   ],
   "outputs": [],
   "metadata": {}
  },
  {
   "cell_type": "code",
   "execution_count": null,
   "source": [],
   "outputs": [],
   "metadata": {}
  },
  {
   "cell_type": "code",
   "execution_count": null,
   "source": [
    "\n"
   ],
   "outputs": [],
   "metadata": {}
  },
  {
   "cell_type": "code",
   "execution_count": null,
   "source": [
    "login_start = time.time()\n",
    "\n",
    "driver.find_element(By.ID, \"inputUsername\").send_keys(USER)\n",
    "driver.find_element(By.ID, \"inputPassword\").send_keys(PASSWORD)\n",
    "wait.until(\n",
    "    EC.visibility_of_element_located(\n",
    "        (By.XPATH, '//button[text()=\"Log in\"]')\n",
    "    )\n",
    ").click()\n",
    "\n",
    "# wait until Control Plane button show up\n",
    "wait.until(\n",
    "    EC.visibility_of_element_located(\n",
    "        (By.XPATH, '//button[text()=\"Control Plane\"]')\n",
    "    )\n",
    ").click()\n",
    "\n",
    "login_end = time.time()\n",
    "login_time = login_end - login_start\n",
    "\n",
    "logging.info(\"login：%f 秒\" % (login_time))\n"
   ],
   "outputs": [],
   "metadata": {}
  },
  {
   "cell_type": "code",
   "execution_count": null,
   "source": [
    "\n"
   ],
   "outputs": [],
   "metadata": {}
  },
  {
   "cell_type": "code",
   "execution_count": null,
   "source": [
    "\n"
   ],
   "outputs": [],
   "metadata": {}
  },
  {
   "cell_type": "code",
   "execution_count": null,
   "source": [
    "\n",
    "# Open default project\n",
    "project_start = time.time()\n",
    "\n",
    "wait.until(\n",
    "    EC.visibility_of_element_located(\n",
    "        (By.XPATH, '//a[text()=\"Projects\"]')\n",
    "    )\n",
    ").click()\n",
    "\n",
    "\n",
    "wait.until(\n",
    "    EC.visibility_of_element_located(\n",
    "        (By.XPATH, '//a[text()=\"default\"]')\n",
    "    )\n",
    ").click()\n",
    "\n",
    "# wait until Active message is showup\n",
    "wait.until(\n",
    "    EC.visibility_of_element_located(\n",
    "        (By.XPATH, '(//span[text()=\"Active\"])[2]')\n",
    "    )\n",
    ").click()\n",
    "\n",
    "project_end = time.time()\n",
    "project_time = project_end - project_start\n",
    "logging.info(\"open project：%f 秒\" % (project_time))\n",
    "\n",
    "\n"
   ],
   "outputs": [],
   "metadata": {}
  },
  {
   "cell_type": "code",
   "execution_count": null,
   "source": [
    "\n",
    "\n"
   ],
   "outputs": [],
   "metadata": {}
  },
  {
   "cell_type": "code",
   "execution_count": null,
   "source": [
    "\n",
    "# Navigate to Detail Tab\n",
    "detail_start = time.time()\n",
    "\n",
    "wait.until(\n",
    "    EC.visibility_of_element_located(\n",
    "        (By.XPATH, '//a[text()=\"Details\"]')\n",
    "    )\n",
    ").click()\n",
    "\n",
    "# wait until Active message is showup\n",
    "wait.until(\n",
    "    EC.visibility_of_element_located(\n",
    "        (By.XPATH, '(//span[text()=\"Active\"])[2]')\n",
    "    )\n",
    ").click()\n",
    "detail_end = time.time()\n",
    "\n",
    "detail_time = detail_end - detail_start\n",
    "logging.info(\"detail tab：%f 秒\" % (detail_time))\n"
   ],
   "outputs": [],
   "metadata": {}
  },
  {
   "cell_type": "code",
   "execution_count": null,
   "source": [
    "\n",
    "# Navigate to Workloads Tab\n",
    "workload_start = time.time()\n",
    "\n",
    "wait.until(\n",
    "    EC.visibility_of_element_located(\n",
    "        (By.XPATH,  '//a[text()=\"Workloads\"]')\n",
    "    )\n",
    ").click()\n",
    "\n",
    "\n",
    "# wait until Wuick Starts block is showup\n",
    "wait.until(\n",
    "    EC.visibility_of_element_located(\n",
    "        (By.XPATH, '//h1[text()=\"Quick Starts\"]')\n",
    "    )\n",
    ").click()\n",
    "workload_end = time.time()\n",
    "\n",
    "workload_time = workload_end - workload_start\n",
    "logging.info(\"workload tab：%f 秒\" % (workload_time))\n",
    "\n"
   ],
   "outputs": [],
   "metadata": {}
  },
  {
   "cell_type": "code",
   "execution_count": null,
   "source": [
    "\n",
    "# Navigate to Overview Tab\n",
    "overview_start = time.time()\n",
    "\n",
    "wait.until(\n",
    "    EC.visibility_of_element_located(\n",
    "        (By.XPATH, '(//a[text()=\"Overview\"])[2]')\n",
    "    )\n",
    ").click()\n",
    "\n",
    "# wait until Active message is showup\n",
    "wait.until(\n",
    "    EC.visibility_of_element_located(\n",
    "        (By.XPATH, '(//span[text()=\"Active\"])[2]')\n",
    "    )\n",
    ").click()\n",
    "overview_end = time.time()\n",
    "\n",
    "overview_time = overview_end - overview_start\n",
    "logging.info(\"overview tab：%f 秒\" % (overview_time))"
   ],
   "outputs": [],
   "metadata": {}
  },
  {
   "cell_type": "code",
   "execution_count": null,
   "source": [
    "\n",
    "# logout\n",
    "wait.until(\n",
    "    EC.visibility_of_element_located(\n",
    "        (By.XPATH, '//span[text()=\"%s\"]/../../..' % USER)\n",
    "    )\n",
    ").click()\n",
    "\n",
    "driver.find_element(By.XPATH, '//button[text()=\"Log out\"]').click()\n",
    "\n"
   ],
   "outputs": [],
   "metadata": {}
  },
  {
   "cell_type": "code",
   "execution_count": null,
   "source": [],
   "outputs": [],
   "metadata": {}
  },
  {
   "cell_type": "code",
   "execution_count": null,
   "source": [
    "driver.close()"
   ],
   "outputs": [],
   "metadata": {}
  },
  {
   "cell_type": "code",
   "execution_count": null,
   "source": [
    "logging.info(\"\\n  login,  project,  detail,  workload,  overview \\n%f, %f, %f, %f, %f \" % (login_time, project_time, detail_time, workload_time, overview_time))"
   ],
   "outputs": [],
   "metadata": {}
  },
  {
   "cell_type": "code",
   "execution_count": null,
   "source": [
    "\n"
   ],
   "outputs": [],
   "metadata": {}
  },
  {
   "cell_type": "code",
   "execution_count": null,
   "source": [],
   "outputs": [],
   "metadata": {}
  },
  {
   "cell_type": "code",
   "execution_count": null,
   "source": [],
   "outputs": [],
   "metadata": {}
  },
  {
   "cell_type": "code",
   "execution_count": null,
   "source": [],
   "outputs": [],
   "metadata": {}
  },
  {
   "cell_type": "code",
   "execution_count": null,
   "source": [],
   "outputs": [],
   "metadata": {}
  }
 ],
 "metadata": {
  "kernelspec": {
   "display_name": "Python 3 (ipykernel)",
   "language": "python",
   "name": "python3"
  },
  "language_info": {
   "codemirror_mode": {
    "name": "ipython",
    "version": 3
   },
   "file_extension": ".py",
   "mimetype": "text/x-python",
   "name": "python",
   "nbconvert_exporter": "python",
   "pygments_lexer": "ipython3",
   "version": "3.9.5"
  }
 },
 "nbformat": 4,
 "nbformat_minor": 5
}