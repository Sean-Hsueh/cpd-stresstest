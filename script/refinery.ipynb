{
 "metadata": {
  "language_info": {
   "codemirror_mode": {
    "name": "ipython",
    "version": 3
   },
   "file_extension": ".py",
   "mimetype": "text/x-python",
   "name": "python",
   "nbconvert_exporter": "python",
   "pygments_lexer": "ipython3",
   "version": "3.9.0"
  },
  "orig_nbformat": 4,
  "kernelspec": {
   "name": "python3",
   "display_name": "Python 3.9.0 64-bit ('selenium-venv': venv)"
  },
  "interpreter": {
   "hash": "d1e07294c00812fe9d9cd68bcde7e7e115eaf8fdaea669a73593791dd2a8f09d"
  }
 },
 "nbformat": 4,
 "nbformat_minor": 2,
 "cells": [
  {
   "cell_type": "code",
   "execution_count": null,
   "source": [
    "!pip install selenium"
   ],
   "outputs": [],
   "metadata": {}
  },
  {
   "cell_type": "code",
   "execution_count": null,
   "source": [
    "from DasUITesting import instance, project, util\n",
    "import time\n",
    "import os\n",
    "import datetime\n",
    "import pytz\n",
    "import logging\n",
    "\n",
    "FORMAT = '%(asctime)s %(levelname)s: %(message)s'\n",
    "logging.basicConfig(level=logging.INFO, format=FORMAT)"
   ],
   "outputs": [],
   "metadata": {}
  },
  {
   "cell_type": "code",
   "execution_count": null,
   "source": [
    "BASE_URL   = os.environ.get('DAS_INSTANCE')    if os.environ.get('DAS_INSTANCE')    is not None else \"https://lab.das.twcc.ai\"\n",
    "USER       = os.environ.get('DAS_USER')        if os.environ.get('DAS_USER')        is not None else \"das\"\n",
    "PASSWORD   = os.environ.get('DAS_PASSWORD')    if os.environ.get('DAS_PASSWORD')    is not None else \"NchcDAS@2020\"\n",
    "EXECUTOR   = os.environ.get('REMOTE_EXECUTOR') if os.environ.get('REMOTE_EXECUTOR') is not None else \"http://140.110.136.74:30052/wd/hub\"\n",
    "MEAN_THINK = os.environ.get('MEAN_THINK')      if os.environ.get('MEAN_THINK')      is not None else \"\"\n",
    "DURATION   = os.environ.get('DURATION')        if os.environ.get('DURATION')        is not None else \"1\"\n",
    "\n",
    "# get env var\n",
    "# BASE_URL = os.environ.get('DAS_INSTANCE')\n",
    "# USER = os.environ.get('DAS_USER')\n",
    "# PASSWORD = os.environ.get('DAS_PASSWORD')\n",
    "# EXECUTOR = os.environ.get('REMOTE_EXECUTOR')\n",
    "# \n",
    "# BASE_URL = \"https://lab.das.twcc.ai\"\n",
    "# USER = \"dass\"\n",
    "# PASSWORD = \"NchcDAS@2020\"\n",
    "# EXECUTOR = \"http://140.110.136.74:30052/wd/hub\""
   ],
   "outputs": [],
   "metadata": {}
  },
  {
   "cell_type": "code",
   "execution_count": null,
   "source": [
    "now = datetime.datetime.now(pytz.timezone('Asia/Taipei'))\n",
    "project_name = now.strftime('refinery-by-selenium-at-%Y%m%d-%H%M%S')\n",
    "\n",
    "start = time.time()"
   ],
   "outputs": [],
   "metadata": {}
  },
  {
   "cell_type": "code",
   "execution_count": null,
   "source": [],
   "outputs": [],
   "metadata": {}
  },
  {
   "cell_type": "code",
   "execution_count": null,
   "source": [
    "try:\n",
    "    instance = instance.Instance(EXECUTOR)\n",
    "    instance.login(BASE_URL, USER, PASSWORD)\n",
    "    proj = instance.project(project_name)\n",
    "    proj.create()\n",
    "    proj.data(\"/tmp/sample/airline_data/airline-data.csv\").upload()\n",
    "    ref = proj.refinery()\n",
    "    ref.build_flow(retry=5)\n",
    "    ref.cleanup()\n",
    "    # ref.create_job(project_name)\n",
    "    proj.delete()\n",
    "    instance.logout()\n",
    "    instance.close()\n",
    "except Exception as e:\n",
    "    util.print_image_base64_encoding(instance.driver, \"/tmp/%s.png\" % project_name)\n",
    "    raise\n"
   ],
   "outputs": [],
   "metadata": {
    "tags": [
     "outputPrepend"
    ]
   }
  },
  {
   "cell_type": "code",
   "execution_count": null,
   "source": [],
   "outputs": [],
   "metadata": {}
  },
  {
   "cell_type": "code",
   "execution_count": null,
   "source": [
    "\n",
    "end = time.time()\n",
    "logging.info(\"執行時間：%f 秒\" % (end - start))"
   ],
   "outputs": [],
   "metadata": {}
  },
  {
   "cell_type": "code",
   "execution_count": null,
   "source": [],
   "outputs": [],
   "metadata": {}
  },
  {
   "cell_type": "code",
   "execution_count": null,
   "source": [],
   "outputs": [],
   "metadata": {}
  }
 ]
}