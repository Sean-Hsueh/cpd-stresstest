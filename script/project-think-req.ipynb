{
 "cells": [
  {
   "cell_type": "code",
   "execution_count": null,
   "source": [
    "!pip install selenium"
   ],
   "outputs": [],
   "metadata": {}
  },
  {
   "cell_type": "code",
   "execution_count": null,
   "source": [],
   "outputs": [],
   "metadata": {}
  },
  {
   "cell_type": "code",
   "execution_count": null,
   "source": [
    "from DasUITesting import instance, util\n",
    "import time\n",
    "import os\n",
    "import logging\n",
    "import random\n",
    "import uuid\n",
    "\n",
    "\n",
    "FORMAT = '%(asctime)s %(levelname)s: %(message)s'\n",
    "logging.basicConfig(level=logging.INFO, format=FORMAT)"
   ],
   "outputs": [],
   "metadata": {
    "pycharm": {
     "name": "#%%\n"
    }
   }
  },
  {
   "cell_type": "code",
   "execution_count": null,
   "source": [
    "# get env var\n",
    "BASE_URL = os.environ.get('DAS_INSTANCE')\n",
    "USER = os.environ.get('DAS_USER')\n",
    "PASSWORD = os.environ.get('DAS_PASSWORD')\n",
    "EXECUTOR = os.environ.get('REMOTE_EXECUTOR')\n",
    "MEAN_THINK = os.environ.get('MEAN_THINK')\n",
    "\n",
    "# BASE_URL = \"https://lab.das.twcc.ai\"\n",
    "# USER = \"usera\"\n",
    "# PASSWORD = \"NchcDAS@2020\"\n",
    "# EXECUTOR = \"http://140.110.136.74:30052/wd/hub\"\n",
    "# MEAN_THINK = \"10\""
   ],
   "outputs": [],
   "metadata": {
    "pycharm": {
     "name": "#%%\n"
    }
   }
  },
  {
   "cell_type": "code",
   "execution_count": null,
   "source": [
    "#now = datetime.datetime.now(pytz.timezone('Asia/Taipei'))\n",
    "# project_name = now.strftime('notebook-by-selenium-at-%Y%m%d-%H%M%S')\n",
    "prj_id = uuid.uuid4()\n",
    "project_name = \"selenium-jimmy\"\n",
    "\n",
    "\n"
   ],
   "outputs": [],
   "metadata": {
    "pycharm": {
     "name": "#%%\n"
    }
   }
  },
  {
   "cell_type": "code",
   "execution_count": null,
   "source": [
    "for i in range(1, 10):\n",
    "    s = pow(2, i)\n",
    "    logging.info(\"wait %d sec. for EXECUTOR to ready. \" % s)\n",
    "    time.sleep(s)\n",
    "    try:\n",
    "        instance = instance.Instance(EXECUTOR,wait_timeout=120)\n",
    "        break\n",
    "    except Exception as e:\n",
    "        logging.info(\"connect to DRIVER fail\")"
   ],
   "outputs": [],
   "metadata": {
    "tags": []
   }
  },
  {
   "cell_type": "code",
   "execution_count": null,
   "source": [
    "\n",
    "\n",
    "login_start = time.time()\n",
    "instance.login(BASE_URL, USER, PASSWORD)\n",
    "login_end = time.time()\n",
    "login_time = login_end - login_start\n",
    "logging.info(\"login：%f 秒\" % login_time)\n"
   ],
   "outputs": [],
   "metadata": {}
  },
  {
   "cell_type": "code",
   "execution_count": null,
   "source": [
    "\n",
    "proj = instance.project(project_name)\n",
    "proj.list()\n"
   ],
   "outputs": [],
   "metadata": {}
  },
  {
   "cell_type": "code",
   "execution_count": null,
   "source": [
    "\n",
    "# think\n",
    "if MEAN_THINK != \"\":\n",
    "    mean = float(MEAN_THINK)\n",
    "    bbs = random.expovariate(1/mean)\n",
    "    time.sleep(bbs)\n",
    "    \n",
    "overview_start = time.time()\n",
    "proj.open(\"overview\")\n",
    "proj.list()\n",
    "overview_end = time.time()\n",
    "overview_time = overview_end - overview_start\n",
    "logging.info(\"navigate to overview：%f 秒\" % overview_time)\n"
   ],
   "outputs": [],
   "metadata": {}
  },
  {
   "cell_type": "code",
   "execution_count": null,
   "source": [
    "\n",
    "# think\n",
    "if MEAN_THINK != \"\":\n",
    "    mean = float(MEAN_THINK)\n",
    "    bbs = random.expovariate(1/mean)\n",
    "    time.sleep(bbs)\n",
    "    \n",
    "assets_start = time.time()\n",
    "proj.open(\"assets\")\n",
    "proj.list()\n",
    "assets_end = time.time()\n",
    "assets_time = assets_end - assets_start\n",
    "logging.info(\"navigate to asset：%f 秒\" % assets_time)\n"
   ],
   "outputs": [],
   "metadata": {}
  },
  {
   "cell_type": "code",
   "execution_count": null,
   "source": [
    "\n",
    "# think\n",
    "if MEAN_THINK != \"\":\n",
    "    mean = float(MEAN_THINK)\n",
    "    bbs = random.expovariate(1/mean)\n",
    "    time.sleep(bbs)\n",
    "    \n",
    "environments_start = time.time()\n",
    "proj.open(\"environments\")\n",
    "proj.list()\n",
    "environments_end = time.time()    \n",
    "environments_time = environments_end - environments_start\n",
    "logging.info(\"navigate to env：%f 秒\" % environments_time)\n"
   ],
   "outputs": [],
   "metadata": {}
  },
  {
   "cell_type": "code",
   "execution_count": null,
   "source": [],
   "outputs": [],
   "metadata": {
    "collapsed": false,
    "pycharm": {
     "name": "#%%\n"
    }
   }
  },
  {
   "cell_type": "code",
   "execution_count": null,
   "source": [
    "\n",
    "instance.logout()\n",
    "instance.close()\n",
    "\n",
    "\n",
    "logging.info(\"\\n  login,  overview,  assets,  environments\\n%f, %f, %f, %f\" % (login_time, overview_time, assets_time, environments_time))\n"
   ],
   "outputs": [],
   "metadata": {
    "pycharm": {
     "name": "#%%\n"
    }
   }
  },
  {
   "cell_type": "code",
   "execution_count": null,
   "source": [],
   "outputs": [],
   "metadata": {}
  }
 ],
 "metadata": {
  "kernelspec": {
   "name": "python3",
   "display_name": "Python 3.8.2 64-bit"
  },
  "language_info": {
   "codemirror_mode": {
    "name": "ipython",
    "version": 3
   },
   "file_extension": ".py",
   "mimetype": "text/x-python",
   "name": "python",
   "nbconvert_exporter": "python",
   "pygments_lexer": "ipython3",
   "version": "3.8.2"
  },
  "interpreter": {
   "hash": "31f2aee4e71d21fbe5cf8b01ff0e069b9275f58929596ceb00d14d90e3e16cd6"
  }
 },
 "nbformat": 4,
 "nbformat_minor": 1
}